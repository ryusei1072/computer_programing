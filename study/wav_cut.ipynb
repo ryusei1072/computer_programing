{
 "cells": [
  {
   "cell_type": "code",
   "execution_count": 2,
   "id": "9c0c1cba-4290-4e29-89c3-14d3d6dcf3c5",
   "metadata": {},
   "outputs": [],
   "source": [
    "from pydub import AudioSegment\n",
    "import os\n",
    "from pandas import DataFrame\n",
    "import pandas as pd\n",
    "from glob import glob\n",
    "from tgt import read_textgrid"
   ]
  },
  {
   "cell_type": "code",
   "execution_count": 3,
   "id": "679bc15b-c55c-4bda-b006-47e5a87eb5de",
   "metadata": {},
   "outputs": [],
   "source": [
    "meta = pd.read_csv(\"./csv/FutariMeta.csv\")"
   ]
  },
  {
   "cell_type": "code",
   "execution_count": 4,
   "id": "56f26504-9435-4a49-8473-1ea30b70ffe5",
   "metadata": {},
   "outputs": [],
   "source": [
    "#path1 = []\n",
    "#path2 = []\n",
    "#for i in range(len(meta[\"SessionID\"])):\n",
    "#    path1.append(meta[\"SessionID\"][i][0:4])\n",
    "#    path2.append(meta[\"SessionID\"][i])"
   ]
  },
  {
   "cell_type": "code",
   "execution_count": 5,
   "id": "070024c7-3c9b-4479-aafd-4c3d752a5a7c",
   "metadata": {},
   "outputs": [],
   "source": [
    "# path = []\n",
    "# for i in range(len(path1)):\n",
    "#     for j in range(len(path2)):\n",
    "#         path.append('./data/'+path1[i] + '/' + path2[j])"
   ]
  },
  {
   "cell_type": "code",
   "execution_count": 6,
   "id": "7d1b5fdc-150f-4fa4-bea5-09d404f57187",
   "metadata": {},
   "outputs": [],
   "source": [
    "def wav_cut(TextGridPath,wavPath):\n",
    "    #一つのディレクトリに対してwavファイルを切り出す\n",
    "    tg = read_textgrid(TextGridPath)\n",
    "    tier_name = tg.get_tier_names()\n",
    "    tier1 = tg.get_tier_by_name(tier_name[0])\n",
    "    root, ext = os.path.splitext(wavPath)\n",
    "    #data2というディレクトリに変更\n",
    "    root = root[2:6] + \"_cut\" + root[6:]\n",
    "    out_path = os.path.join(root + '_cut' + '.wav')\n",
    "    # wavファイルの読み込み\n",
    "    sound = AudioSegment.from_wav(wavPath)\n",
    "    utterCount = []\n",
    "    i = 1\n",
    "    for interval in tier1:\n",
    "        if interval.text != \"pz\":\n",
    "            #発話回数をカウント\n",
    "            utterCount.append(interval.end_time-interval.start_time)\n",
    "            #1秒以上2秒以下の発話に限定\n",
    "            if (interval.end_time-interval.start_time >= 1.0) & (interval.end_time-interval.start_time <= 2.0): \n",
    "                sound1 = sound[interval.start_time*1000:interval.end_time*1000]\n",
    "                sound1.export(out_path[:-4]+ str(i) + out_path[-4:], format=\"wav\")\n",
    "                i +=1"
   ]
  },
  {
   "cell_type": "code",
   "execution_count": 7,
   "id": "1cb6d995-cbed-4d19-ac7d-d7f8626f39d8",
   "metadata": {},
   "outputs": [],
   "source": [
    "#ToDo    K001のところを欲しいディレクトリ名に変える\n",
    "file_path = glob('./data/K001/**/*01.wav')\n",
    "file_path = sorted(file_path)  \n",
    "pathlist = glob('./data/K001/**/*transUnit.TextGrid')\n",
    "pathlist = sorted(pathlist)"
   ]
  },
  {
   "cell_type": "code",
   "execution_count": 282,
   "id": "c0729c0a-eacf-400b-b38d-ed7b14d2bf89",
   "metadata": {},
   "outputs": [
    {
     "data": {
      "text/plain": [
       "['./data/K001/K001_003/K001_003a_IC01.wav',\n",
       " './data/K001/K001_004/K001_004_IC01.wav',\n",
       " './data/K001/K001_008/K001_008_IC01.wav',\n",
       " './data/K001/K001_009/K001_009_IC01.wav',\n",
       " './data/K001/K001_010/K001_010_IC01.wav',\n",
       " './data/K001/K001_011/K001_011_IC01.wav',\n",
       " './data/K001/K001_013/K001_013_IC01.wav',\n",
       " './data/K001/K001_014/K001_014_IC01.wav',\n",
       " './data/K001/K001_016/K001_016_IC01.wav',\n",
       " './data/K001/K001_017/K001_017_IC01.wav',\n",
       " './data/K001/K001_019/K001_019_IC01.wav']"
      ]
     },
     "execution_count": 282,
     "metadata": {},
     "output_type": "execute_result"
    }
   ],
   "source": [
    "file_path"
   ]
  },
  {
   "cell_type": "code",
   "execution_count": 283,
   "id": "ca2a3fd5-f8ec-4061-8c69-d6c116dcd5a6",
   "metadata": {},
   "outputs": [
    {
     "data": {
      "text/plain": [
       "['./data/K001/K001_003/K001_003a-transUnit.TextGrid',\n",
       " './data/K001/K001_004/K001_004-transUnit.TextGrid',\n",
       " './data/K001/K001_008/K001_008-transUnit.TextGrid',\n",
       " './data/K001/K001_009/K001_009-transUnit.TextGrid',\n",
       " './data/K001/K001_010/K001_010-transUnit.TextGrid',\n",
       " './data/K001/K001_011/K001_011-transUnit.TextGrid',\n",
       " './data/K001/K001_013/K001_013-transUnit.TextGrid',\n",
       " './data/K001/K001_014/K001_014-transUnit.TextGrid',\n",
       " './data/K001/K001_016/K001_016-transUnit.TextGrid',\n",
       " './data/K001/K001_017/K001_017-transUnit.TextGrid',\n",
       " './data/K001/K001_019/K001_019-transUnit.TextGrid']"
      ]
     },
     "execution_count": 283,
     "metadata": {},
     "output_type": "execute_result"
    }
   ],
   "source": [
    "pathlist"
   ]
  },
  {
   "cell_type": "code",
   "execution_count": 284,
   "id": "a57f7b04-3fe9-4748-a56b-268d51b8419c",
   "metadata": {},
   "outputs": [
    {
     "data": {
      "text/plain": [
       "11"
      ]
     },
     "execution_count": 284,
     "metadata": {},
     "output_type": "execute_result"
    }
   ],
   "source": [
    "len(file_path)"
   ]
  },
  {
   "cell_type": "code",
   "execution_count": 285,
   "id": "16012a05-87aa-4fda-bf33-723b3a6d3d50",
   "metadata": {},
   "outputs": [
    {
     "data": {
      "text/plain": [
       "11"
      ]
     },
     "execution_count": 285,
     "metadata": {},
     "output_type": "execute_result"
    }
   ],
   "source": [
    "len(pathlist)"
   ]
  },
  {
   "cell_type": "code",
   "execution_count": 244,
   "id": "9fd19e8b-8e6a-4a7d-aa86-dc5711658178",
   "metadata": {},
   "outputs": [],
   "source": [
    "#wav_cut(pathlist[2],file_path[2])"
   ]
  },
  {
   "cell_type": "code",
   "execution_count": 8,
   "id": "1dea39bb-1dab-4724-a032-344466df129e",
   "metadata": {},
   "outputs": [],
   "source": [
    "#全てのディレクトリに対して行う\n",
    "for i in range(len(pathlist)):\n",
    "    wav_cut(pathlist[i],file_path[i])"
   ]
  },
  {
   "cell_type": "code",
   "execution_count": 212,
   "id": "dbc3a7d8-4ffa-4e33-8925-990a61bbcb7a",
   "metadata": {},
   "outputs": [],
   "source": [
    "file_path = glob('./data/T008/**/*01.wav')\n",
    "file_path = sorted(file_path)  \n",
    "pathlist = glob('./data/T008/**/*transUnit.TextGrid')\n",
    "pathlist = sorted(pathlist)\n",
    "\n",
    "for i in range(len(pathlist)):\n",
    "    wav_cut(pathlist[i],file_path[i])"
   ]
  },
  {
   "cell_type": "code",
   "execution_count": null,
   "id": "a492660a-cbab-41dd-941e-f2e58ef04902",
   "metadata": {},
   "outputs": [],
   "source": [
    "file_path = glob('./data/T009/**/*01.wav')\n",
    "file_path = sorted(file_path)  \n",
    "pathlist = glob('./data/T009/**/*transUnit.TextGrid')\n",
    "pathlist = sorted(pathlist)\n",
    "\n",
    "for i in range(len(pathlist)):\n",
    "    wav_cut(pathlist[i],file_path[i])"
   ]
  },
  {
   "cell_type": "code",
   "execution_count": null,
   "id": "d34f70b4-52e1-42cd-b971-2cb4d1c7607f",
   "metadata": {},
   "outputs": [],
   "source": []
  },
  {
   "cell_type": "code",
   "execution_count": null,
   "id": "cc6c1ac5-bc1a-4bfa-8580-b50eccbef607",
   "metadata": {},
   "outputs": [],
   "source": []
  },
  {
   "cell_type": "code",
   "execution_count": null,
   "id": "ca2797cd-7541-47ae-808c-0ade5af66b17",
   "metadata": {},
   "outputs": [],
   "source": []
  },
  {
   "cell_type": "code",
   "execution_count": null,
   "id": "c578f06e-272c-4425-8d42-a8c5c0cf37d5",
   "metadata": {},
   "outputs": [],
   "source": []
  },
  {
   "cell_type": "code",
   "execution_count": null,
   "id": "72c95401-cca8-4aab-9e75-7b0228f663bf",
   "metadata": {},
   "outputs": [],
   "source": []
  },
  {
   "cell_type": "code",
   "execution_count": null,
   "id": "57c3d685-2edb-489e-a999-66b98d5a08bd",
   "metadata": {},
   "outputs": [],
   "source": []
  },
  {
   "cell_type": "code",
   "execution_count": null,
   "id": "152a9d0a-70e9-49ca-b941-f922c19b3ec9",
   "metadata": {},
   "outputs": [],
   "source": []
  },
  {
   "cell_type": "code",
   "execution_count": 228,
   "id": "6adb8f21-e496-4e59-b4b0-f3f5eefe45fe",
   "metadata": {},
   "outputs": [],
   "source": [
    "#一つのディレクトリに対してwavファイルを切り出す\n",
    "tg = read_textgrid(pathlist[0])\n",
    "tier_name = tg.get_tier_names()\n",
    "tier1 = tg.get_tier_by_name(tier_name[0])\n",
    "\n",
    "\n",
    "root, ext = os.path.splitext(file_path[0])\n",
    "#data2というディレクトリに変更\n",
    "root = root[2:6] + \"_cut\" + root[6:]\n",
    "out_path = os.path.join(root + '_cut' + '.wav')\n",
    "# wavファイルの読み込み\n",
    "sound = AudioSegment.from_wav(file_path[0])\n",
    "############# 0～10秒を抽出    #ここで秒数を指定\n",
    "#sound1 = sound[:10000]\n",
    "utterCount = []\n",
    "i = 1\n",
    "for interval in tier1:\n",
    "    if interval.text != \"pz\":\n",
    "        #発話回数をカウント\n",
    "        utterCount.append(interval.end_time-interval.start_time)\n",
    "        if (interval.end_time-interval.start_time >= 1.0) & (interval.end_time-interval.start_time <= 2.0): \n",
    "            sound1 = sound[interval.start_time*1000:interval.end_time*1000]\n",
    "            sound1.export(out_path[:-4]+ str(i) + out_path[-4:], format=\"wav\")\n",
    "            i +=1"
   ]
  },
  {
   "cell_type": "code",
   "execution_count": 75,
   "id": "f1af54fc-0ac4-477f-9c71-e5699264fc2b",
   "metadata": {},
   "outputs": [
    {
     "data": {
      "text/plain": [
       "<_io.BufferedRandom name='data_cut/C001/C001_001/C001_001_IC01_cut.wav'>"
      ]
     },
     "execution_count": 75,
     "metadata": {},
     "output_type": "execute_result"
    }
   ],
   "source": [
    "#指定した時間のwavファイルを取得\n",
    "\n",
    "#切り出し方：会話が重複してないかつ何秒みたいな条件\n",
    "\n",
    "from pydub import AudioSegment\n",
    "import os\n",
    "# wavファイルのパス　例（D:\\music\\melody.wav）\n",
    "file_path = 'data/C001/C001_001/C001_001_IC01.wav'\n",
    "# 元ファイル名に_cutをつけてリネーム   \n",
    "root, ext = os.path.splitext(file_path)\n",
    "#data2というディレクトリに変更\n",
    "root = root[0:4] + \"_cut\" + root[4:]\n",
    "out_path = os.path.join(root + '_cut' + '.wav')\n",
    "# wavファイルの読み込み\n",
    "sound = AudioSegment.from_wav(file_path)\n",
    "\n",
    "\n",
    "\n",
    "\n",
    "\n",
    "############# 0～10秒を抽出    #ここで秒数を指定\n",
    "#sound1 = sound[:10000]\n",
    "sound1 = sound[:10000]\n",
    "\n",
    "# リネームされて出力\n",
    "sound1.export(out_path, format=\"wav\")"
   ]
  }
 ],
 "metadata": {
  "kernelspec": {
   "display_name": "Python 3",
   "language": "python",
   "name": "python3"
  },
  "language_info": {
   "codemirror_mode": {
    "name": "ipython",
    "version": 3
   },
   "file_extension": ".py",
   "mimetype": "text/x-python",
   "name": "python",
   "nbconvert_exporter": "python",
   "pygments_lexer": "ipython3",
   "version": "3.7.10"
  }
 },
 "nbformat": 4,
 "nbformat_minor": 5
}
