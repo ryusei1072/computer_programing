{
 "cells": [
  {
   "cell_type": "code",
   "execution_count": 1,
   "id": "e47fc433-d7e7-4c31-8101-44d028c7669a",
   "metadata": {},
   "outputs": [],
   "source": [
    "import tgt"
   ]
  },
  {
   "cell_type": "code",
   "execution_count": 2,
   "id": "38daf446-e845-40fb-aa5c-3135b0d221e7",
   "metadata": {},
   "outputs": [],
   "source": [
    "import pandas as pd\n",
    "import numpy as np\n",
    "from pandas import DataFrame\n",
    "from glob import glob\n",
    "import matplotlib.pyplot as plt"
   ]
  },
  {
   "cell_type": "code",
   "execution_count": 3,
   "id": "ccf8ce2c-bb71-44fb-b2b6-fa1423080dbd",
   "metadata": {},
   "outputs": [],
   "source": [
    "from tgt import read_textgrid"
   ]
  },
  {
   "cell_type": "code",
   "execution_count": 4,
   "id": "a0b908ba-ea0e-43f2-b6ee-6bacf5013b20",
   "metadata": {},
   "outputs": [
    {
     "data": {
      "text/html": [
       "<div>\n",
       "<style scoped>\n",
       "    .dataframe tbody tr th:only-of-type {\n",
       "        vertical-align: middle;\n",
       "    }\n",
       "\n",
       "    .dataframe tbody tr th {\n",
       "        vertical-align: top;\n",
       "    }\n",
       "\n",
       "    .dataframe thead th {\n",
       "        text-align: right;\n",
       "    }\n",
       "</style>\n",
       "<table border=\"1\" class=\"dataframe\">\n",
       "  <thead>\n",
       "    <tr style=\"text-align: right;\">\n",
       "      <th></th>\n",
       "      <th>セッションID</th>\n",
       "      <th>会話概要</th>\n",
       "      <th>形式</th>\n",
       "      <th>場所</th>\n",
       "      <th>活動</th>\n",
       "      <th>話者間の関係性</th>\n",
       "      <th>収録年</th>\n",
       "    </tr>\n",
       "  </thead>\n",
       "  <tbody>\n",
       "    <tr>\n",
       "      <th>0</th>\n",
       "      <td>C001_001</td>\n",
       "      <td>飲食店で友人たちと誕生日会</td>\n",
       "      <td>雑談</td>\n",
       "      <td>公共商業施設_飲食店</td>\n",
       "      <td>付き合い</td>\n",
       "      <td>友人知人</td>\n",
       "      <td>2016年</td>\n",
       "    </tr>\n",
       "    <tr>\n",
       "      <th>1</th>\n",
       "      <td>C001_002</td>\n",
       "      <td>友人宅で友人と雑談</td>\n",
       "      <td>雑談</td>\n",
       "      <td>室内_友人知人宅</td>\n",
       "      <td>休息</td>\n",
       "      <td>友人知人</td>\n",
       "      <td>2016年</td>\n",
       "    </tr>\n",
       "    <tr>\n",
       "      <th>2</th>\n",
       "      <td>C001_003</td>\n",
       "      <td>自宅で友人に仕事について相談</td>\n",
       "      <td>用談・相談</td>\n",
       "      <td>自宅</td>\n",
       "      <td>休息</td>\n",
       "      <td>友人知人</td>\n",
       "      <td>2016年</td>\n",
       "    </tr>\n",
       "    <tr>\n",
       "      <th>3</th>\n",
       "      <td>C001_004</td>\n",
       "      <td>飲食店で同僚と飲みながら</td>\n",
       "      <td>雑談</td>\n",
       "      <td>公共商業施設_飲食店</td>\n",
       "      <td>食事・付き合い</td>\n",
       "      <td>同僚</td>\n",
       "      <td>2016年</td>\n",
       "    </tr>\n",
       "    <tr>\n",
       "      <th>4</th>\n",
       "      <td>C001_005</td>\n",
       "      <td>実家近くで母と散歩しながら</td>\n",
       "      <td>雑談</td>\n",
       "      <td>屋外</td>\n",
       "      <td>移動</td>\n",
       "      <td>家族</td>\n",
       "      <td>2016年</td>\n",
       "    </tr>\n",
       "    <tr>\n",
       "      <th>...</th>\n",
       "      <td>...</td>\n",
       "      <td>...</td>\n",
       "      <td>...</td>\n",
       "      <td>...</td>\n",
       "      <td>...</td>\n",
       "      <td>...</td>\n",
       "      <td>...</td>\n",
       "    </tr>\n",
       "    <tr>\n",
       "      <th>456</th>\n",
       "      <td>W008_001</td>\n",
       "      <td>会議室で委員会</td>\n",
       "      <td>会議・会合</td>\n",
       "      <td>職場</td>\n",
       "      <td>仕事</td>\n",
       "      <td>仕事関係</td>\n",
       "      <td>2020年</td>\n",
       "    </tr>\n",
       "    <tr>\n",
       "      <th>457</th>\n",
       "      <td>W009_001</td>\n",
       "      <td>飲食店で高校生たちが夕食を取りながら</td>\n",
       "      <td>雑談</td>\n",
       "      <td>公共商業施設_飲食店</td>\n",
       "      <td>食事・付き合い</td>\n",
       "      <td>友人知人</td>\n",
       "      <td>2020年</td>\n",
       "    </tr>\n",
       "    <tr>\n",
       "      <th>458</th>\n",
       "      <td>W009_002</td>\n",
       "      <td>自宅で母・娘が雑談</td>\n",
       "      <td>雑談</td>\n",
       "      <td>自宅</td>\n",
       "      <td>休息</td>\n",
       "      <td>家族</td>\n",
       "      <td>2020年</td>\n",
       "    </tr>\n",
       "    <tr>\n",
       "      <th>459</th>\n",
       "      <td>W010_001</td>\n",
       "      <td>事務所で書籍出版について打合せ</td>\n",
       "      <td>会議・会合</td>\n",
       "      <td>職場</td>\n",
       "      <td>仕事</td>\n",
       "      <td>仕事関係</td>\n",
       "      <td>2020年</td>\n",
       "    </tr>\n",
       "    <tr>\n",
       "      <th>460</th>\n",
       "      <td>W011_001</td>\n",
       "      <td>自宅で高校生たちがオンラインで雑談</td>\n",
       "      <td>雑談</td>\n",
       "      <td>自宅</td>\n",
       "      <td>付き合い</td>\n",
       "      <td>友人知人</td>\n",
       "      <td>2020年</td>\n",
       "    </tr>\n",
       "  </tbody>\n",
       "</table>\n",
       "<p>461 rows × 7 columns</p>\n",
       "</div>"
      ],
      "text/plain": [
       "      セッションID                会話概要     形式          場所       活動 話者間の関係性    収録年\n",
       "0    C001_001       飲食店で友人たちと誕生日会     雑談  公共商業施設_飲食店     付き合い    友人知人  2016年\n",
       "1    C001_002           友人宅で友人と雑談     雑談    室内_友人知人宅       休息    友人知人  2016年\n",
       "2    C001_003      自宅で友人に仕事について相談  用談・相談          自宅       休息    友人知人  2016年\n",
       "3    C001_004        飲食店で同僚と飲みながら     雑談  公共商業施設_飲食店  食事・付き合い      同僚  2016年\n",
       "4    C001_005       実家近くで母と散歩しながら     雑談          屋外       移動      家族  2016年\n",
       "..        ...                 ...    ...         ...      ...     ...    ...\n",
       "456  W008_001             会議室で委員会  会議・会合          職場       仕事    仕事関係  2020年\n",
       "457  W009_001  飲食店で高校生たちが夕食を取りながら     雑談  公共商業施設_飲食店  食事・付き合い    友人知人  2020年\n",
       "458  W009_002           自宅で母・娘が雑談     雑談          自宅       休息      家族  2020年\n",
       "459  W010_001     事務所で書籍出版について打合せ  会議・会合          職場       仕事    仕事関係  2020年\n",
       "460  W011_001   自宅で高校生たちがオンラインで雑談     雑談          自宅     付き合い    友人知人  2020年\n",
       "\n",
       "[461 rows x 7 columns]"
      ]
     },
     "execution_count": 4,
     "metadata": {},
     "output_type": "execute_result"
    }
   ],
   "source": [
    "#メタ情報を読み込む、日本語は文字化けするので、encodingを指定する\n",
    "meta = pd.read_csv(\"./metaInfo/結合用/session.csv\",encoding='cp932')\n",
    "meta"
   ]
  },
  {
   "cell_type": "code",
   "execution_count": 5,
   "id": "0493e58f-fa68-460c-8640-454cf2450b7c",
   "metadata": {},
   "outputs": [],
   "source": [
    "#mergeするために、カラム名を揃えた\n",
    "meta = meta.rename(columns={'セッションID':'SessionID'})"
   ]
  },
  {
   "cell_type": "code",
   "execution_count": 6,
   "id": "e7253dc6-8fc1-4c68-aa07-b4d878a5fab8",
   "metadata": {},
   "outputs": [
    {
     "data": {
      "text/html": [
       "<div>\n",
       "<style scoped>\n",
       "    .dataframe tbody tr th:only-of-type {\n",
       "        vertical-align: middle;\n",
       "    }\n",
       "\n",
       "    .dataframe tbody tr th {\n",
       "        vertical-align: top;\n",
       "    }\n",
       "\n",
       "    .dataframe thead th {\n",
       "        text-align: right;\n",
       "    }\n",
       "</style>\n",
       "<table border=\"1\" class=\"dataframe\">\n",
       "  <thead>\n",
       "    <tr style=\"text-align: right;\">\n",
       "      <th></th>\n",
       "      <th>ConversationID</th>\n",
       "      <th>SessionID</th>\n",
       "      <th>Time</th>\n",
       "      <th>Number</th>\n",
       "      <th>Core</th>\n",
       "    </tr>\n",
       "  </thead>\n",
       "  <tbody>\n",
       "    <tr>\n",
       "      <th>0</th>\n",
       "      <td>C001_002</td>\n",
       "      <td>C001_002</td>\n",
       "      <td>17</td>\n",
       "      <td>2</td>\n",
       "      <td>0</td>\n",
       "    </tr>\n",
       "    <tr>\n",
       "      <th>1</th>\n",
       "      <td>C001_003</td>\n",
       "      <td>C001_003</td>\n",
       "      <td>46</td>\n",
       "      <td>2</td>\n",
       "      <td>0</td>\n",
       "    </tr>\n",
       "    <tr>\n",
       "      <th>2</th>\n",
       "      <td>C001_004</td>\n",
       "      <td>C001_004</td>\n",
       "      <td>17</td>\n",
       "      <td>2</td>\n",
       "      <td>0</td>\n",
       "    </tr>\n",
       "    <tr>\n",
       "      <th>3</th>\n",
       "      <td>C001_005</td>\n",
       "      <td>C001_005</td>\n",
       "      <td>17</td>\n",
       "      <td>2</td>\n",
       "      <td>0</td>\n",
       "    </tr>\n",
       "    <tr>\n",
       "      <th>4</th>\n",
       "      <td>C001_006</td>\n",
       "      <td>C001_006</td>\n",
       "      <td>18</td>\n",
       "      <td>2</td>\n",
       "      <td>0</td>\n",
       "    </tr>\n",
       "    <tr>\n",
       "      <th>...</th>\n",
       "      <td>...</td>\n",
       "      <td>...</td>\n",
       "      <td>...</td>\n",
       "      <td>...</td>\n",
       "      <td>...</td>\n",
       "    </tr>\n",
       "    <tr>\n",
       "      <th>572</th>\n",
       "      <td>W001_003b</td>\n",
       "      <td>W001_003</td>\n",
       "      <td>3</td>\n",
       "      <td>13</td>\n",
       "      <td>0</td>\n",
       "    </tr>\n",
       "    <tr>\n",
       "      <th>573</th>\n",
       "      <td>W001_003c</td>\n",
       "      <td>W001_003</td>\n",
       "      <td>7</td>\n",
       "      <td>14</td>\n",
       "      <td>0</td>\n",
       "    </tr>\n",
       "    <tr>\n",
       "      <th>574</th>\n",
       "      <td>W001_003d</td>\n",
       "      <td>W001_003</td>\n",
       "      <td>27</td>\n",
       "      <td>14</td>\n",
       "      <td>0</td>\n",
       "    </tr>\n",
       "    <tr>\n",
       "      <th>575</th>\n",
       "      <td>W002_001</td>\n",
       "      <td>W002_001</td>\n",
       "      <td>29</td>\n",
       "      <td>14</td>\n",
       "      <td>0</td>\n",
       "    </tr>\n",
       "    <tr>\n",
       "      <th>576</th>\n",
       "      <td>T005_013</td>\n",
       "      <td>T005_013</td>\n",
       "      <td>29</td>\n",
       "      <td>16</td>\n",
       "      <td>0</td>\n",
       "    </tr>\n",
       "  </tbody>\n",
       "</table>\n",
       "<p>577 rows × 5 columns</p>\n",
       "</div>"
      ],
      "text/plain": [
       "    ConversationID SessionID  Time  Number  Core\n",
       "0         C001_002  C001_002    17       2     0\n",
       "1         C001_003  C001_003    46       2     0\n",
       "2         C001_004  C001_004    17       2     0\n",
       "3         C001_005  C001_005    17       2     0\n",
       "4         C001_006  C001_006    18       2     0\n",
       "..             ...       ...   ...     ...   ...\n",
       "572      W001_003b  W001_003     3      13     0\n",
       "573      W001_003c  W001_003     7      14     0\n",
       "574      W001_003d  W001_003    27      14     0\n",
       "575       W002_001  W002_001    29      14     0\n",
       "576       T005_013  T005_013    29      16     0\n",
       "\n",
       "[577 rows x 5 columns]"
      ]
     },
     "execution_count": 6,
     "metadata": {},
     "output_type": "execute_result"
    }
   ],
   "source": [
    "#話者の人数などが載っているメタ情報のcsvを読み込む\n",
    "wasya = pd.read_csv(\"./metaInfo/結合用/conversation会話人数.csv\")\n",
    "wasya"
   ]
  },
  {
   "cell_type": "code",
   "execution_count": 7,
   "id": "bdcc0609-9f68-4fb8-976a-10b13d9f8082",
   "metadata": {},
   "outputs": [
    {
     "data": {
      "text/html": [
       "<div>\n",
       "<style scoped>\n",
       "    .dataframe tbody tr th:only-of-type {\n",
       "        vertical-align: middle;\n",
       "    }\n",
       "\n",
       "    .dataframe tbody tr th {\n",
       "        vertical-align: top;\n",
       "    }\n",
       "\n",
       "    .dataframe thead th {\n",
       "        text-align: right;\n",
       "    }\n",
       "</style>\n",
       "<table border=\"1\" class=\"dataframe\">\n",
       "  <thead>\n",
       "    <tr style=\"text-align: right;\">\n",
       "      <th></th>\n",
       "      <th>ConversationID</th>\n",
       "      <th>SessionID</th>\n",
       "      <th>Time</th>\n",
       "      <th>Number</th>\n",
       "      <th>Core</th>\n",
       "    </tr>\n",
       "  </thead>\n",
       "  <tbody>\n",
       "    <tr>\n",
       "      <th>90</th>\n",
       "      <td>K009_014</td>\n",
       "      <td>K009_014</td>\n",
       "      <td>10</td>\n",
       "      <td>2</td>\n",
       "      <td>0</td>\n",
       "    </tr>\n",
       "  </tbody>\n",
       "</table>\n",
       "</div>"
      ],
      "text/plain": [
       "   ConversationID SessionID  Time  Number  Core\n",
       "90       K009_014  K009_014    10       2     0"
      ]
     },
     "execution_count": 7,
     "metadata": {},
     "output_type": "execute_result"
    }
   ],
   "source": [
    "wasya[wasya['ConversationID']=='K009_014']"
   ]
  },
  {
   "cell_type": "code",
   "execution_count": 8,
   "id": "06d839ba-4690-46a9-9475-e4c0dadf4a72",
   "metadata": {},
   "outputs": [
    {
     "data": {
      "text/html": [
       "<div>\n",
       "<style scoped>\n",
       "    .dataframe tbody tr th:only-of-type {\n",
       "        vertical-align: middle;\n",
       "    }\n",
       "\n",
       "    .dataframe tbody tr th {\n",
       "        vertical-align: top;\n",
       "    }\n",
       "\n",
       "    .dataframe thead th {\n",
       "        text-align: right;\n",
       "    }\n",
       "</style>\n",
       "<table border=\"1\" class=\"dataframe\">\n",
       "  <thead>\n",
       "    <tr style=\"text-align: right;\">\n",
       "      <th></th>\n",
       "      <th>SessionID</th>\n",
       "      <th>Number</th>\n",
       "    </tr>\n",
       "  </thead>\n",
       "  <tbody>\n",
       "    <tr>\n",
       "      <th>0</th>\n",
       "      <td>C001_002</td>\n",
       "      <td>2</td>\n",
       "    </tr>\n",
       "    <tr>\n",
       "      <th>1</th>\n",
       "      <td>C001_003</td>\n",
       "      <td>2</td>\n",
       "    </tr>\n",
       "    <tr>\n",
       "      <th>2</th>\n",
       "      <td>C001_004</td>\n",
       "      <td>2</td>\n",
       "    </tr>\n",
       "    <tr>\n",
       "      <th>3</th>\n",
       "      <td>C001_005</td>\n",
       "      <td>2</td>\n",
       "    </tr>\n",
       "    <tr>\n",
       "      <th>4</th>\n",
       "      <td>C001_006</td>\n",
       "      <td>2</td>\n",
       "    </tr>\n",
       "    <tr>\n",
       "      <th>...</th>\n",
       "      <td>...</td>\n",
       "      <td>...</td>\n",
       "    </tr>\n",
       "    <tr>\n",
       "      <th>275</th>\n",
       "      <td>W007_002</td>\n",
       "      <td>2</td>\n",
       "    </tr>\n",
       "    <tr>\n",
       "      <th>276</th>\n",
       "      <td>W009_002</td>\n",
       "      <td>2</td>\n",
       "    </tr>\n",
       "    <tr>\n",
       "      <th>277</th>\n",
       "      <td>W009_002</td>\n",
       "      <td>2</td>\n",
       "    </tr>\n",
       "    <tr>\n",
       "      <th>278</th>\n",
       "      <td>W010_001</td>\n",
       "      <td>2</td>\n",
       "    </tr>\n",
       "    <tr>\n",
       "      <th>279</th>\n",
       "      <td>W010_001</td>\n",
       "      <td>2</td>\n",
       "    </tr>\n",
       "  </tbody>\n",
       "</table>\n",
       "<p>280 rows × 2 columns</p>\n",
       "</div>"
      ],
      "text/plain": [
       "    SessionID Number\n",
       "0    C001_002      2\n",
       "1    C001_003      2\n",
       "2    C001_004      2\n",
       "3    C001_005      2\n",
       "4    C001_006      2\n",
       "..        ...    ...\n",
       "275  W007_002      2\n",
       "276  W009_002      2\n",
       "277  W009_002      2\n",
       "278  W010_001      2\n",
       "279  W010_001      2\n",
       "\n",
       "[280 rows x 2 columns]"
      ]
     },
     "execution_count": 8,
     "metadata": {},
     "output_type": "execute_result"
    }
   ],
   "source": [
    "#話者が二人だけのデータフレームを作成\n",
    "futari = wasya[wasya[\"Number\"]==2]\n",
    "futari = DataFrame([futari[\"SessionID\"],futari[\"Number\"]]).T\n",
    "futari"
   ]
  },
  {
   "cell_type": "code",
   "execution_count": 9,
   "id": "9bc28d8b-fc0b-40a5-a3d4-6e758e10b16d",
   "metadata": {},
   "outputs": [
    {
     "ename": "NameError",
     "evalue": "name 'test' is not defined",
     "output_type": "error",
     "traceback": [
      "\u001b[0;31m---------------------------------------------------------------------------\u001b[0m",
      "\u001b[0;31mNameError\u001b[0m                                 Traceback (most recent call last)",
      "\u001b[0;32m<ipython-input-9-4e1243bd22c6>\u001b[0m in \u001b[0;36m<module>\u001b[0;34m\u001b[0m\n\u001b[0;32m----> 1\u001b[0;31m \u001b[0mtest\u001b[0m\u001b[0;34m\u001b[0m\u001b[0;34m\u001b[0m\u001b[0m\n\u001b[0m",
      "\u001b[0;31mNameError\u001b[0m: name 'test' is not defined"
     ]
    }
   ],
   "source": [
    "test"
   ]
  },
  {
   "cell_type": "code",
   "execution_count": 10,
   "id": "c17558d7-42a6-43c1-a5fa-b4710d6bb31e",
   "metadata": {},
   "outputs": [
    {
     "ename": "NameError",
     "evalue": "name 'FutariMeta' is not defined",
     "output_type": "error",
     "traceback": [
      "\u001b[0;31m---------------------------------------------------------------------------\u001b[0m",
      "\u001b[0;31mNameError\u001b[0m                                 Traceback (most recent call last)",
      "\u001b[0;32m<ipython-input-10-b1a2a37ca5cf>\u001b[0m in \u001b[0;36m<module>\u001b[0;34m\u001b[0m\n\u001b[0;32m----> 1\u001b[0;31m \u001b[0mFutariMeta\u001b[0m\u001b[0;34m\u001b[0m\u001b[0;34m\u001b[0m\u001b[0m\n\u001b[0m",
      "\u001b[0;31mNameError\u001b[0m: name 'FutariMeta' is not defined"
     ]
    }
   ],
   "source": [
    "FutariMeta"
   ]
  },
  {
   "cell_type": "code",
   "execution_count": 11,
   "id": "109e00c0-e5af-40c4-8793-dbe1b5091e58",
   "metadata": {},
   "outputs": [
    {
     "ename": "NameError",
     "evalue": "name 'FutariMeta' is not defined",
     "output_type": "error",
     "traceback": [
      "\u001b[0;31m---------------------------------------------------------------------------\u001b[0m",
      "\u001b[0;31mNameError\u001b[0m                                 Traceback (most recent call last)",
      "\u001b[0;32m<ipython-input-11-9ff001b6261f>\u001b[0m in \u001b[0;36m<module>\u001b[0;34m\u001b[0m\n\u001b[1;32m      1\u001b[0m \u001b[0;31m#欠損値があるものを削除\u001b[0m\u001b[0;34m\u001b[0m\u001b[0;34m\u001b[0m\u001b[0;34m\u001b[0m\u001b[0m\n\u001b[0;32m----> 2\u001b[0;31m \u001b[0mFutariMeta\u001b[0m\u001b[0;34m=\u001b[0m \u001b[0mFutariMeta\u001b[0m\u001b[0;34m.\u001b[0m\u001b[0mdropna\u001b[0m\u001b[0;34m(\u001b[0m\u001b[0;34m)\u001b[0m\u001b[0;34m\u001b[0m\u001b[0;34m\u001b[0m\u001b[0m\n\u001b[0m\u001b[1;32m      3\u001b[0m \u001b[0mFutariMeta\u001b[0m\u001b[0;34m\u001b[0m\u001b[0;34m\u001b[0m\u001b[0m\n",
      "\u001b[0;31mNameError\u001b[0m: name 'FutariMeta' is not defined"
     ]
    }
   ],
   "source": [
    "#欠損値があるものを削除\n",
    "FutariMeta= FutariMeta.dropna()\n",
    "FutariMeta"
   ]
  },
  {
   "cell_type": "code",
   "execution_count": 12,
   "id": "ea35522f-a8f2-4508-86ed-10b1cac6b8b7",
   "metadata": {},
   "outputs": [],
   "source": [
    "pathlist = glob('./data/**/**/*transUnit.TextGrid')\n",
    "pathlist = sorted(pathlist)"
   ]
  },
  {
   "cell_type": "code",
   "execution_count": 13,
   "id": "69971323-aebb-4aad-97ba-4417a5a567e1",
   "metadata": {},
   "outputs": [],
   "source": [
    "#\"C001_001\"のところのみのパス名を取得\n",
    "pathname= []\n",
    "for i in range(len(pathlist)):\n",
    "    pathname.append(pathlist[i][21:29])"
   ]
  },
  {
   "cell_type": "code",
   "execution_count": 14,
   "id": "a62518b9-b668-4be1-a77e-aaafdffedb1c",
   "metadata": {},
   "outputs": [],
   "source": [
    "list1 = []\n",
    "list2 = []\n",
    "for i in range(len(pathlist)):\n",
    "    pathname = pathlist[i][-28:]\n",
    "    tg = read_textgrid(pathlist[i])\n",
    "    tier_name = tg.get_tier_names()\n",
    "    tier1 = tg.get_tier_by_name(tier_name[0])\n",
    "    tier2 = tg.get_tier_by_name(tier_name[1])\n",
    "    #発話時間\n",
    "    utterTime1 = [interval.end_time - interval.start_time for interval in tier1 if interval.text != \"pz\"]\n",
    "    utterTime2 = [interval.end_time - interval.start_time for interval in tier2 if interval.text != \"pz\"]\n",
    "    df1 = DataFrame(utterTime1, columns=[pathname[1:8]+\"1\"])\n",
    "    df2 = DataFrame(utterTime2, columns=[pathname[1:8]+\"2\"])\n",
    "    list1.append(df1.T)\n",
    "    list2.append(df2.T)\n",
    "utterTdf1 = pd.concat(list1, ignore_index=True) \n",
    "utterTdf2 = pd.concat(list2, ignore_index=True) "
   ]
  },
  {
   "cell_type": "code",
   "execution_count": 15,
   "id": "9123fcda-98ab-42d2-a9f2-cf224e846d69",
   "metadata": {},
   "outputs": [],
   "source": [
    "pathdf = DataFrame([pathname],index=[\"speaker\"])"
   ]
  },
  {
   "cell_type": "code",
   "execution_count": 16,
   "id": "12c7a547-5c61-47f4-9b1c-f0c0093d98fe",
   "metadata": {},
   "outputs": [
    {
     "data": {
      "text/html": [
       "<div>\n",
       "<style scoped>\n",
       "    .dataframe tbody tr th:only-of-type {\n",
       "        vertical-align: middle;\n",
       "    }\n",
       "\n",
       "    .dataframe tbody tr th {\n",
       "        vertical-align: top;\n",
       "    }\n",
       "\n",
       "    .dataframe thead th {\n",
       "        text-align: right;\n",
       "    }\n",
       "</style>\n",
       "<table border=\"1\" class=\"dataframe\">\n",
       "  <thead>\n",
       "    <tr style=\"text-align: right;\">\n",
       "      <th></th>\n",
       "      <th>speaker</th>\n",
       "    </tr>\n",
       "  </thead>\n",
       "  <tbody>\n",
       "    <tr>\n",
       "      <th>0</th>\n",
       "      <td>W011_001b-transUnit.TextGrid</td>\n",
       "    </tr>\n",
       "  </tbody>\n",
       "</table>\n",
       "</div>"
      ],
      "text/plain": [
       "                        speaker\n",
       "0  W011_001b-transUnit.TextGrid"
      ]
     },
     "execution_count": 16,
     "metadata": {},
     "output_type": "execute_result"
    }
   ],
   "source": [
    "pathdf.T"
   ]
  },
  {
   "cell_type": "code",
   "execution_count": 17,
   "id": "d2b618c4-890a-47f6-ade7-4e45a91cc154",
   "metadata": {},
   "outputs": [],
   "source": [
    "Utterdf1 = pd.concat([pathdf.T,utterTdf1],axis=1)\n",
    "Utterdf2 = pd.concat([pathdf.T,utterTdf2],axis=1)"
   ]
  },
  {
   "cell_type": "code",
   "execution_count": 18,
   "id": "ec3f2962-111a-4661-b7f7-5938869f6975",
   "metadata": {},
   "outputs": [],
   "source": [
    "Utterdf1 =Utterdf1.rename(columns={'speaker':'SessionID'})\n",
    "Utterdf2 =Utterdf2.rename(columns={'speaker':'SessionID'})"
   ]
  },
  {
   "cell_type": "code",
   "execution_count": 19,
   "id": "c2f63690-95e6-4da4-882d-c7dc5db1f37a",
   "metadata": {},
   "outputs": [
    {
     "ename": "NameError",
     "evalue": "name 'FutariMeta' is not defined",
     "output_type": "error",
     "traceback": [
      "\u001b[0;31m---------------------------------------------------------------------------\u001b[0m",
      "\u001b[0;31mNameError\u001b[0m                                 Traceback (most recent call last)",
      "\u001b[0;32m<ipython-input-19-b1a2a37ca5cf>\u001b[0m in \u001b[0;36m<module>\u001b[0;34m\u001b[0m\n\u001b[0;32m----> 1\u001b[0;31m \u001b[0mFutariMeta\u001b[0m\u001b[0;34m\u001b[0m\u001b[0;34m\u001b[0m\u001b[0m\n\u001b[0m",
      "\u001b[0;31mNameError\u001b[0m: name 'FutariMeta' is not defined"
     ]
    }
   ],
   "source": [
    "FutariMeta"
   ]
  },
  {
   "cell_type": "code",
   "execution_count": null,
   "id": "9d0d09e3-9df2-48c4-b253-cf366434a587",
   "metadata": {},
   "outputs": [],
   "source": [
    "#クロス集計を表示\n",
    "pd.crosstab(FutariMeta[\"場所\"],FutariMeta[\"話者間の関係性\"])"
   ]
  },
  {
   "cell_type": "code",
   "execution_count": 20,
   "id": "c2805674-1132-4947-98b3-ecf98d688068",
   "metadata": {},
   "outputs": [
    {
     "ename": "NameError",
     "evalue": "name 'FutariMeta' is not defined",
     "output_type": "error",
     "traceback": [
      "\u001b[0;31m---------------------------------------------------------------------------\u001b[0m",
      "\u001b[0;31mNameError\u001b[0m                                 Traceback (most recent call last)",
      "\u001b[0;32m<ipython-input-20-a4085fd5724e>\u001b[0m in \u001b[0;36m<module>\u001b[0;34m\u001b[0m\n\u001b[1;32m      1\u001b[0m \u001b[0;31m#ここのnumberなどがNaNになっているものをなくせば、二人対話のみになる\u001b[0m\u001b[0;34m\u001b[0m\u001b[0;34m\u001b[0m\u001b[0;34m\u001b[0m\u001b[0m\n\u001b[0;32m----> 2\u001b[0;31m \u001b[0mdf1\u001b[0m \u001b[0;34m=\u001b[0m \u001b[0mpd\u001b[0m\u001b[0;34m.\u001b[0m\u001b[0mmerge\u001b[0m\u001b[0;34m(\u001b[0m\u001b[0mFutariMeta\u001b[0m\u001b[0;34m,\u001b[0m\u001b[0mUtterdf1\u001b[0m\u001b[0;34m,\u001b[0m\u001b[0mon\u001b[0m\u001b[0;34m=\u001b[0m\u001b[0;34m\"SessionID\"\u001b[0m\u001b[0;34m,\u001b[0m\u001b[0mhow\u001b[0m\u001b[0;34m=\u001b[0m\u001b[0;34m'right'\u001b[0m\u001b[0;34m)\u001b[0m\u001b[0;34m\u001b[0m\u001b[0;34m\u001b[0m\u001b[0m\n\u001b[0m\u001b[1;32m      3\u001b[0m \u001b[0;34m\u001b[0m\u001b[0m\n\u001b[1;32m      4\u001b[0m \u001b[0mdf2\u001b[0m \u001b[0;34m=\u001b[0m \u001b[0mpd\u001b[0m\u001b[0;34m.\u001b[0m\u001b[0mmerge\u001b[0m\u001b[0;34m(\u001b[0m\u001b[0mFutariMeta\u001b[0m\u001b[0;34m,\u001b[0m\u001b[0mUtterdf2\u001b[0m\u001b[0;34m,\u001b[0m\u001b[0mon\u001b[0m\u001b[0;34m=\u001b[0m\u001b[0;34m\"SessionID\"\u001b[0m\u001b[0;34m,\u001b[0m\u001b[0mhow\u001b[0m\u001b[0;34m=\u001b[0m\u001b[0;34m'right'\u001b[0m\u001b[0;34m)\u001b[0m\u001b[0;34m\u001b[0m\u001b[0;34m\u001b[0m\u001b[0m\n",
      "\u001b[0;31mNameError\u001b[0m: name 'FutariMeta' is not defined"
     ]
    }
   ],
   "source": [
    "#ここのnumberなどがNaNになっているものをなくせば、二人対話のみになる\n",
    "df1 = pd.merge(FutariMeta,Utterdf1,on=\"SessionID\",how='right')\n",
    "\n",
    "df2 = pd.merge(FutariMeta,Utterdf2,on=\"SessionID\",how='right')"
   ]
  },
  {
   "cell_type": "code",
   "execution_count": 21,
   "id": "b18ca103-20de-42fd-92a6-d36d3c79220f",
   "metadata": {},
   "outputs": [],
   "source": [
    "#行列番号で指定\n",
    "#df.iat[0,1]\n",
    "#df.iloc[0,:]"
   ]
  },
  {
   "cell_type": "code",
   "execution_count": 22,
   "id": "894b188f-f458-460e-a58a-d141b689b6b2",
   "metadata": {},
   "outputs": [
    {
     "ename": "KeyError",
     "evalue": "['Number']",
     "output_type": "error",
     "traceback": [
      "\u001b[0;31m---------------------------------------------------------------------------\u001b[0m",
      "\u001b[0;31mKeyError\u001b[0m                                  Traceback (most recent call last)",
      "\u001b[0;32m<ipython-input-22-0b4db0f88f77>\u001b[0m in \u001b[0;36m<module>\u001b[0;34m\u001b[0m\n\u001b[1;32m      1\u001b[0m \u001b[0;31m#Numberの列にNaNがあれば削除\u001b[0m\u001b[0;34m\u001b[0m\u001b[0;34m\u001b[0m\u001b[0;34m\u001b[0m\u001b[0m\n\u001b[0;32m----> 2\u001b[0;31m \u001b[0mFutariHatsuwa1\u001b[0m \u001b[0;34m=\u001b[0m \u001b[0mdf1\u001b[0m\u001b[0;34m.\u001b[0m\u001b[0mdropna\u001b[0m\u001b[0;34m(\u001b[0m\u001b[0msubset\u001b[0m\u001b[0;34m=\u001b[0m\u001b[0;34m[\u001b[0m\u001b[0;34m\"Number\"\u001b[0m\u001b[0;34m]\u001b[0m\u001b[0;34m)\u001b[0m\u001b[0;34m\u001b[0m\u001b[0;34m\u001b[0m\u001b[0m\n\u001b[0m\u001b[1;32m      3\u001b[0m \u001b[0mFutariHatsuwa1\u001b[0m\u001b[0;34m\u001b[0m\u001b[0;34m\u001b[0m\u001b[0m\n\u001b[1;32m      4\u001b[0m \u001b[0mFutariHatsuwa2\u001b[0m \u001b[0;34m=\u001b[0m \u001b[0mdf1\u001b[0m\u001b[0;34m.\u001b[0m\u001b[0mdropna\u001b[0m\u001b[0;34m(\u001b[0m\u001b[0msubset\u001b[0m\u001b[0;34m=\u001b[0m\u001b[0;34m[\u001b[0m\u001b[0;34m\"Number\"\u001b[0m\u001b[0;34m]\u001b[0m\u001b[0;34m)\u001b[0m\u001b[0;34m\u001b[0m\u001b[0;34m\u001b[0m\u001b[0m\n",
      "\u001b[0;32m~/.pyenv/versions/3.7.10/lib/python3.7/site-packages/pandas/core/frame.py\u001b[0m in \u001b[0;36mdropna\u001b[0;34m(self, axis, how, thresh, subset, inplace)\u001b[0m\n\u001b[1;32m   5160\u001b[0m             \u001b[0mcheck\u001b[0m \u001b[0;34m=\u001b[0m \u001b[0mindices\u001b[0m \u001b[0;34m==\u001b[0m \u001b[0;34m-\u001b[0m\u001b[0;36m1\u001b[0m\u001b[0;34m\u001b[0m\u001b[0;34m\u001b[0m\u001b[0m\n\u001b[1;32m   5161\u001b[0m             \u001b[0;32mif\u001b[0m \u001b[0mcheck\u001b[0m\u001b[0;34m.\u001b[0m\u001b[0many\u001b[0m\u001b[0;34m(\u001b[0m\u001b[0;34m)\u001b[0m\u001b[0;34m:\u001b[0m\u001b[0;34m\u001b[0m\u001b[0;34m\u001b[0m\u001b[0m\n\u001b[0;32m-> 5162\u001b[0;31m                 \u001b[0;32mraise\u001b[0m \u001b[0mKeyError\u001b[0m\u001b[0;34m(\u001b[0m\u001b[0mlist\u001b[0m\u001b[0;34m(\u001b[0m\u001b[0mnp\u001b[0m\u001b[0;34m.\u001b[0m\u001b[0mcompress\u001b[0m\u001b[0;34m(\u001b[0m\u001b[0mcheck\u001b[0m\u001b[0;34m,\u001b[0m \u001b[0msubset\u001b[0m\u001b[0;34m)\u001b[0m\u001b[0;34m)\u001b[0m\u001b[0;34m)\u001b[0m\u001b[0;34m\u001b[0m\u001b[0;34m\u001b[0m\u001b[0m\n\u001b[0m\u001b[1;32m   5163\u001b[0m             \u001b[0magg_obj\u001b[0m \u001b[0;34m=\u001b[0m \u001b[0mself\u001b[0m\u001b[0;34m.\u001b[0m\u001b[0mtake\u001b[0m\u001b[0;34m(\u001b[0m\u001b[0mindices\u001b[0m\u001b[0;34m,\u001b[0m \u001b[0maxis\u001b[0m\u001b[0;34m=\u001b[0m\u001b[0magg_axis\u001b[0m\u001b[0;34m)\u001b[0m\u001b[0;34m\u001b[0m\u001b[0;34m\u001b[0m\u001b[0m\n\u001b[1;32m   5164\u001b[0m \u001b[0;34m\u001b[0m\u001b[0m\n",
      "\u001b[0;31mKeyError\u001b[0m: ['Number']"
     ]
    }
   ],
   "source": [
    "#Numberの列にNaNがあれば削除\n",
    "FutariHatsuwa1 = df1.dropna(subset=[\"Number\"])\n",
    "FutariHatsuwa1\n",
    "FutariHatsuwa2 = df1.dropna(subset=[\"Number\"])"
   ]
  },
  {
   "cell_type": "code",
   "execution_count": null,
   "id": "e1665158-ae62-4f94-a55b-e2f1b6f3c43e",
   "metadata": {},
   "outputs": [],
   "source": []
  },
  {
   "cell_type": "code",
   "execution_count": 23,
   "id": "37c8ac7c-d973-40f1-8939-92d04a709a3b",
   "metadata": {},
   "outputs": [],
   "source": [
    "#小数点2までにする\n",
    "utterTdf1 =utterTdf1.round(2)\n",
    "utterTdf2 =utterTdf2.round(2)"
   ]
  },
  {
   "cell_type": "code",
   "execution_count": 24,
   "id": "0c652e4a-6e34-4183-bf7d-6a743acedf2c",
   "metadata": {},
   "outputs": [],
   "source": [
    "utterTdf1 =utterTdf1.T\n",
    "utterTdf2 =utterTdf2.T"
   ]
  },
  {
   "cell_type": "code",
   "execution_count": null,
   "id": "0741ef75-9891-4a05-b0e8-fa51c564a169",
   "metadata": {},
   "outputs": [],
   "source": []
  },
  {
   "cell_type": "code",
   "execution_count": 25,
   "id": "3963250b-66eb-43eb-8086-febf728f97d3",
   "metadata": {},
   "outputs": [],
   "source": [
    "#多次元配列を一元化するための関数\n",
    "import collections\n",
    "\n",
    "def flatten(l):\n",
    "    for el in l:\n",
    "        if isinstance(el, collections.abc.Iterable) and not isinstance(el, (str, bytes)):\n",
    "            yield from flatten(el)\n",
    "        else:\n",
    "            yield el"
   ]
  },
  {
   "cell_type": "code",
   "execution_count": 26,
   "id": "6e49d264-d967-49cf-91b3-da6484e51ffd",
   "metadata": {},
   "outputs": [],
   "source": [
    "list1 = []\n",
    "list2 = []\n",
    "for i in range(len(pathlist)):\n",
    "    pathname = pathlist[i][-28:]\n",
    "    tg = read_textgrid(pathlist[i])\n",
    "    tier_name = tg.get_tier_names()\n",
    "    tier1 = tg.get_tier_by_name(tier_name[0])\n",
    "    tier2 = tg.get_tier_by_name(tier_name[1])\n",
    "    #発話時間\n",
    "    utterTime1 = [interval.end_time - interval.start_time for interval in tier1 if interval.text != \"pz\"]\n",
    "    utterTime2 = [interval.end_time - interval.start_time for interval in tier2 if interval.text != \"pz\"]\n",
    "    list1.append(utterTime1)\n",
    "    list2.append(utterTime2)"
   ]
  },
  {
   "cell_type": "code",
   "execution_count": 27,
   "id": "e810e3c4-49a6-40b6-8ae5-fab5aff7345b",
   "metadata": {},
   "outputs": [],
   "source": [
    "hatsuwa1 = flatten(list1)\n",
    "hatsuwa1= DataFrame(hatsuwa1)\n",
    "hatsuwa1 = hatsuwa1.round(2)"
   ]
  },
  {
   "cell_type": "code",
   "execution_count": 28,
   "id": "a83d48f1-2ef7-4e3d-b9e5-0832e27f3ec3",
   "metadata": {},
   "outputs": [],
   "source": [
    "hatsuwa2 = flatten(list2)\n",
    "hatsuwa2 = DataFrame(hatsuwa2)\n",
    "hatsuwa2 = hatsuwa2.round(2)"
   ]
  },
  {
   "cell_type": "code",
   "execution_count": 29,
   "id": "6540a126-2d25-4e3b-8043-9cfda17bfd22",
   "metadata": {},
   "outputs": [],
   "source": [
    "#データフレームを横に繋げる\n",
    "test = pd.merge(hatsuwa1,hatsuwa2, how='right')"
   ]
  },
  {
   "cell_type": "code",
   "execution_count": 31,
   "id": "b6f408c2-005a-4a39-b212-253f5df2334a",
   "metadata": {},
   "outputs": [
    {
     "data": {
      "image/png": "[encoded data removed]",
      "text/plain": [
       "<Figure size 432x288 with 1 Axes>"
      ]
     },
     "metadata": {
      "needs_background": "light"
     },
     "output_type": "display_data"
    }
   ],
   "source": [
    "test.hist(bins=1000,label = 'pandas')\n",
    "plt.xlim(0, 8)\n",
    "#plt.savefig(\"pandas_hist.png\")\n",
    "plt.show()\n",
    "plt.close()"
   ]
  },
  {
   "cell_type": "code",
   "execution_count": 231,
   "id": "20edafcf-98c9-443d-ab9a-e9a0e3855d06",
   "metadata": {},
   "outputs": [
    {
     "data": {
      "image/png": "[encoded data removed]",
      "text/plain": [
       "<Figure size 432x288 with 1 Axes>"
      ]
     },
     "metadata": {
      "needs_background": "light"
     },
     "output_type": "display_data"
    }
   ],
   "source": [
    "test.hist(bins=1000,label = 'pandas')\n",
    "plt.xlim(0, 8)\n",
    "plt.ylim(0,2000)\n",
    "#plt.savefig(\"pandas_hist.png\")\n",
    "plt.show()\n",
    "plt.close()"
   ]
  },
  {
   "cell_type": "code",
   "execution_count": 232,
   "id": "fc47ce4c-425a-40a3-90d2-b54b950d5048",
   "metadata": {},
   "outputs": [
    {
     "data": {
      "image/png": "[encoded data removed]",
      "text/plain": [
       "<Figure size 432x288 with 1 Axes>"
      ]
     },
     "metadata": {
      "needs_background": "light"
     },
     "output_type": "display_data"
    }
   ],
   "source": [
    "test.hist(bins=1000,label = 'pandas')\n",
    "plt.xlim(0, 8)\n",
    "plt.ylim(0,5000)\n",
    "#plt.savefig(\"pandas_hist.png\")\n",
    "plt.show()\n",
    "plt.close()"
   ]
  },
  {
   "cell_type": "code",
   "execution_count": 251,
   "id": "b7038498-6d5a-403d-8da5-5d32f2c0582d",
   "metadata": {},
   "outputs": [
    {
     "data": {
      "image/png": "[encoded data removed]",
      "text/plain": [
       "<Figure size 432x288 with 1 Axes>"
      ]
     },
     "metadata": {
      "needs_background": "light"
     },
     "output_type": "display_data"
    }
   ],
   "source": [
    "test.hist(bins=1000,label = 'pandas')\n",
    "plt.xlim(0, 8)\n",
    "plt.ylim(0,200000)\n",
    "#plt.savefig(\"pandas_hist.png\")\n",
    "plt.show()\n",
    "plt.close()"
   ]
  },
  {
   "cell_type": "code",
   "execution_count": null,
   "id": "9853ba59-bfc5-44c7-b8f2-36d636d38350",
   "metadata": {},
   "outputs": [],
   "source": []
  },
  {
   "cell_type": "code",
   "execution_count": 219,
   "id": "d74f71e9-028d-49ca-bb29-c00518432217",
   "metadata": {},
   "outputs": [
    {
     "data": {
      "image/png": "[encoded data removed]",
      "text/plain": [
       "<Figure size 432x288 with 1 Axes>"
      ]
     },
     "metadata": {
      "needs_background": "light"
     },
     "output_type": "display_data"
    }
   ],
   "source": [
    "test.hist(bins=1000,label = 'pandas')\n",
    "plt.xlim(0, 8)\n",
    "plt.ylim(0,50)\n",
    "#plt.savefig(\"pandas_hist.png\")\n",
    "plt.show()\n",
    "plt.close()"
   ]
  },
  {
   "cell_type": "code",
   "execution_count": 220,
   "id": "06637cb6-b169-48f2-87f7-f3d1f338e60d",
   "metadata": {},
   "outputs": [
    {
     "data": {
      "image/png": "[encoded data removed]",
      "text/plain": [
       "<Figure size 432x288 with 1 Axes>"
      ]
     },
     "metadata": {
      "needs_background": "light"
     },
     "output_type": "display_data"
    }
   ],
   "source": [
    "test.hist(bins=1000,label = 'pandas')\n",
    "plt.xlim(0, 8)\n",
    "plt.ylim(0,2000)\n",
    "#plt.savefig(\"pandas_hist.png\")\n",
    "plt.show()\n",
    "plt.close()"
   ]
  },
  {
   "cell_type": "code",
   "execution_count": 31,
   "id": "1d3f9f85-f51f-4318-8183-779c02412454",
   "metadata": {},
   "outputs": [
    {
     "data": {
      "text/html": [
       "<div>\n",
       "<style scoped>\n",
       "    .dataframe tbody tr th:only-of-type {\n",
       "        vertical-align: middle;\n",
       "    }\n",
       "\n",
       "    .dataframe tbody tr th {\n",
       "        vertical-align: top;\n",
       "    }\n",
       "\n",
       "    .dataframe thead th {\n",
       "        text-align: right;\n",
       "    }\n",
       "</style>\n",
       "<table border=\"1\" class=\"dataframe\">\n",
       "  <thead>\n",
       "    <tr style=\"text-align: right;\">\n",
       "      <th></th>\n",
       "      <th>SessionID</th>\n",
       "      <th>0</th>\n",
       "      <th>1</th>\n",
       "      <th>2</th>\n",
       "      <th>3</th>\n",
       "      <th>4</th>\n",
       "      <th>5</th>\n",
       "      <th>6</th>\n",
       "      <th>7</th>\n",
       "      <th>8</th>\n",
       "      <th>...</th>\n",
       "      <th>2066</th>\n",
       "      <th>2067</th>\n",
       "      <th>2068</th>\n",
       "      <th>2069</th>\n",
       "      <th>2070</th>\n",
       "      <th>2071</th>\n",
       "      <th>2072</th>\n",
       "      <th>2073</th>\n",
       "      <th>2074</th>\n",
       "      <th>2075</th>\n",
       "    </tr>\n",
       "  </thead>\n",
       "  <tbody>\n",
       "    <tr>\n",
       "      <th>0</th>\n",
       "      <td>W011_001b-transUnit.TextGrid</td>\n",
       "      <td>0.085</td>\n",
       "      <td>0.605</td>\n",
       "      <td>0.190</td>\n",
       "      <td>0.938</td>\n",
       "      <td>0.600</td>\n",
       "      <td>2.768</td>\n",
       "      <td>0.814</td>\n",
       "      <td>2.051</td>\n",
       "      <td>0.949</td>\n",
       "      <td>...</td>\n",
       "      <td>NaN</td>\n",
       "      <td>NaN</td>\n",
       "      <td>NaN</td>\n",
       "      <td>NaN</td>\n",
       "      <td>NaN</td>\n",
       "      <td>NaN</td>\n",
       "      <td>NaN</td>\n",
       "      <td>NaN</td>\n",
       "      <td>NaN</td>\n",
       "      <td>NaN</td>\n",
       "    </tr>\n",
       "    <tr>\n",
       "      <th>1</th>\n",
       "      <td>NaN</td>\n",
       "      <td>1.036</td>\n",
       "      <td>3.883</td>\n",
       "      <td>0.587</td>\n",
       "      <td>1.246</td>\n",
       "      <td>0.548</td>\n",
       "      <td>0.178</td>\n",
       "      <td>0.485</td>\n",
       "      <td>0.448</td>\n",
       "      <td>0.902</td>\n",
       "      <td>...</td>\n",
       "      <td>NaN</td>\n",
       "      <td>NaN</td>\n",
       "      <td>NaN</td>\n",
       "      <td>NaN</td>\n",
       "      <td>NaN</td>\n",
       "      <td>NaN</td>\n",
       "      <td>NaN</td>\n",
       "      <td>NaN</td>\n",
       "      <td>NaN</td>\n",
       "      <td>NaN</td>\n",
       "    </tr>\n",
       "    <tr>\n",
       "      <th>2</th>\n",
       "      <td>NaN</td>\n",
       "      <td>0.700</td>\n",
       "      <td>0.590</td>\n",
       "      <td>0.453</td>\n",
       "      <td>2.067</td>\n",
       "      <td>0.736</td>\n",
       "      <td>2.273</td>\n",
       "      <td>0.830</td>\n",
       "      <td>1.782</td>\n",
       "      <td>0.670</td>\n",
       "      <td>...</td>\n",
       "      <td>NaN</td>\n",
       "      <td>NaN</td>\n",
       "      <td>NaN</td>\n",
       "      <td>NaN</td>\n",
       "      <td>NaN</td>\n",
       "      <td>NaN</td>\n",
       "      <td>NaN</td>\n",
       "      <td>NaN</td>\n",
       "      <td>NaN</td>\n",
       "      <td>NaN</td>\n",
       "    </tr>\n",
       "    <tr>\n",
       "      <th>3</th>\n",
       "      <td>NaN</td>\n",
       "      <td>0.899</td>\n",
       "      <td>0.328</td>\n",
       "      <td>0.957</td>\n",
       "      <td>0.742</td>\n",
       "      <td>0.374</td>\n",
       "      <td>1.818</td>\n",
       "      <td>1.570</td>\n",
       "      <td>0.308</td>\n",
       "      <td>0.389</td>\n",
       "      <td>...</td>\n",
       "      <td>NaN</td>\n",
       "      <td>NaN</td>\n",
       "      <td>NaN</td>\n",
       "      <td>NaN</td>\n",
       "      <td>NaN</td>\n",
       "      <td>NaN</td>\n",
       "      <td>NaN</td>\n",
       "      <td>NaN</td>\n",
       "      <td>NaN</td>\n",
       "      <td>NaN</td>\n",
       "    </tr>\n",
       "    <tr>\n",
       "      <th>4</th>\n",
       "      <td>NaN</td>\n",
       "      <td>0.866</td>\n",
       "      <td>0.779</td>\n",
       "      <td>1.316</td>\n",
       "      <td>0.615</td>\n",
       "      <td>0.679</td>\n",
       "      <td>0.908</td>\n",
       "      <td>1.377</td>\n",
       "      <td>0.316</td>\n",
       "      <td>2.663</td>\n",
       "      <td>...</td>\n",
       "      <td>NaN</td>\n",
       "      <td>NaN</td>\n",
       "      <td>NaN</td>\n",
       "      <td>NaN</td>\n",
       "      <td>NaN</td>\n",
       "      <td>NaN</td>\n",
       "      <td>NaN</td>\n",
       "      <td>NaN</td>\n",
       "      <td>NaN</td>\n",
       "      <td>NaN</td>\n",
       "    </tr>\n",
       "    <tr>\n",
       "      <th>...</th>\n",
       "      <td>...</td>\n",
       "      <td>...</td>\n",
       "      <td>...</td>\n",
       "      <td>...</td>\n",
       "      <td>...</td>\n",
       "      <td>...</td>\n",
       "      <td>...</td>\n",
       "      <td>...</td>\n",
       "      <td>...</td>\n",
       "      <td>...</td>\n",
       "      <td>...</td>\n",
       "      <td>...</td>\n",
       "      <td>...</td>\n",
       "      <td>...</td>\n",
       "      <td>...</td>\n",
       "      <td>...</td>\n",
       "      <td>...</td>\n",
       "      <td>...</td>\n",
       "      <td>...</td>\n",
       "      <td>...</td>\n",
       "      <td>...</td>\n",
       "    </tr>\n",
       "    <tr>\n",
       "      <th>559</th>\n",
       "      <td>NaN</td>\n",
       "      <td>0.487</td>\n",
       "      <td>0.273</td>\n",
       "      <td>0.380</td>\n",
       "      <td>1.660</td>\n",
       "      <td>0.350</td>\n",
       "      <td>1.472</td>\n",
       "      <td>6.134</td>\n",
       "      <td>0.668</td>\n",
       "      <td>0.228</td>\n",
       "      <td>...</td>\n",
       "      <td>NaN</td>\n",
       "      <td>NaN</td>\n",
       "      <td>NaN</td>\n",
       "      <td>NaN</td>\n",
       "      <td>NaN</td>\n",
       "      <td>NaN</td>\n",
       "      <td>NaN</td>\n",
       "      <td>NaN</td>\n",
       "      <td>NaN</td>\n",
       "      <td>NaN</td>\n",
       "    </tr>\n",
       "    <tr>\n",
       "      <th>560</th>\n",
       "      <td>NaN</td>\n",
       "      <td>0.213</td>\n",
       "      <td>1.090</td>\n",
       "      <td>0.588</td>\n",
       "      <td>2.641</td>\n",
       "      <td>0.847</td>\n",
       "      <td>0.720</td>\n",
       "      <td>1.560</td>\n",
       "      <td>1.419</td>\n",
       "      <td>2.000</td>\n",
       "      <td>...</td>\n",
       "      <td>NaN</td>\n",
       "      <td>NaN</td>\n",
       "      <td>NaN</td>\n",
       "      <td>NaN</td>\n",
       "      <td>NaN</td>\n",
       "      <td>NaN</td>\n",
       "      <td>NaN</td>\n",
       "      <td>NaN</td>\n",
       "      <td>NaN</td>\n",
       "      <td>NaN</td>\n",
       "    </tr>\n",
       "    <tr>\n",
       "      <th>561</th>\n",
       "      <td>NaN</td>\n",
       "      <td>1.256</td>\n",
       "      <td>1.517</td>\n",
       "      <td>2.610</td>\n",
       "      <td>2.735</td>\n",
       "      <td>0.372</td>\n",
       "      <td>0.242</td>\n",
       "      <td>0.648</td>\n",
       "      <td>1.202</td>\n",
       "      <td>4.475</td>\n",
       "      <td>...</td>\n",
       "      <td>NaN</td>\n",
       "      <td>NaN</td>\n",
       "      <td>NaN</td>\n",
       "      <td>NaN</td>\n",
       "      <td>NaN</td>\n",
       "      <td>NaN</td>\n",
       "      <td>NaN</td>\n",
       "      <td>NaN</td>\n",
       "      <td>NaN</td>\n",
       "      <td>NaN</td>\n",
       "    </tr>\n",
       "    <tr>\n",
       "      <th>562</th>\n",
       "      <td>NaN</td>\n",
       "      <td>0.354</td>\n",
       "      <td>1.736</td>\n",
       "      <td>0.473</td>\n",
       "      <td>0.182</td>\n",
       "      <td>0.551</td>\n",
       "      <td>1.326</td>\n",
       "      <td>0.280</td>\n",
       "      <td>1.256</td>\n",
       "      <td>0.094</td>\n",
       "      <td>...</td>\n",
       "      <td>NaN</td>\n",
       "      <td>NaN</td>\n",
       "      <td>NaN</td>\n",
       "      <td>NaN</td>\n",
       "      <td>NaN</td>\n",
       "      <td>NaN</td>\n",
       "      <td>NaN</td>\n",
       "      <td>NaN</td>\n",
       "      <td>NaN</td>\n",
       "      <td>NaN</td>\n",
       "    </tr>\n",
       "    <tr>\n",
       "      <th>563</th>\n",
       "      <td>NaN</td>\n",
       "      <td>0.521</td>\n",
       "      <td>0.923</td>\n",
       "      <td>0.649</td>\n",
       "      <td>0.230</td>\n",
       "      <td>1.229</td>\n",
       "      <td>1.267</td>\n",
       "      <td>0.723</td>\n",
       "      <td>0.391</td>\n",
       "      <td>1.117</td>\n",
       "      <td>...</td>\n",
       "      <td>NaN</td>\n",
       "      <td>NaN</td>\n",
       "      <td>NaN</td>\n",
       "      <td>NaN</td>\n",
       "      <td>NaN</td>\n",
       "      <td>NaN</td>\n",
       "      <td>NaN</td>\n",
       "      <td>NaN</td>\n",
       "      <td>NaN</td>\n",
       "      <td>NaN</td>\n",
       "    </tr>\n",
       "  </tbody>\n",
       "</table>\n",
       "<p>564 rows × 2077 columns</p>\n",
       "</div>"
      ],
      "text/plain": [
       "                        SessionID      0      1      2      3      4      5  \\\n",
       "0    W011_001b-transUnit.TextGrid  0.085  0.605  0.190  0.938  0.600  2.768   \n",
       "1                             NaN  1.036  3.883  0.587  1.246  0.548  0.178   \n",
       "2                             NaN  0.700  0.590  0.453  2.067  0.736  2.273   \n",
       "3                             NaN  0.899  0.328  0.957  0.742  0.374  1.818   \n",
       "4                             NaN  0.866  0.779  1.316  0.615  0.679  0.908   \n",
       "..                            ...    ...    ...    ...    ...    ...    ...   \n",
       "559                           NaN  0.487  0.273  0.380  1.660  0.350  1.472   \n",
       "560                           NaN  0.213  1.090  0.588  2.641  0.847  0.720   \n",
       "561                           NaN  1.256  1.517  2.610  2.735  0.372  0.242   \n",
       "562                           NaN  0.354  1.736  0.473  0.182  0.551  1.326   \n",
       "563                           NaN  0.521  0.923  0.649  0.230  1.229  1.267   \n",
       "\n",
       "         6      7      8  ...  2066  2067  2068  2069  2070  2071  2072  2073  \\\n",
       "0    0.814  2.051  0.949  ...   NaN   NaN   NaN   NaN   NaN   NaN   NaN   NaN   \n",
       "1    0.485  0.448  0.902  ...   NaN   NaN   NaN   NaN   NaN   NaN   NaN   NaN   \n",
       "2    0.830  1.782  0.670  ...   NaN   NaN   NaN   NaN   NaN   NaN   NaN   NaN   \n",
       "3    1.570  0.308  0.389  ...   NaN   NaN   NaN   NaN   NaN   NaN   NaN   NaN   \n",
       "4    1.377  0.316  2.663  ...   NaN   NaN   NaN   NaN   NaN   NaN   NaN   NaN   \n",
       "..     ...    ...    ...  ...   ...   ...   ...   ...   ...   ...   ...   ...   \n",
       "559  6.134  0.668  0.228  ...   NaN   NaN   NaN   NaN   NaN   NaN   NaN   NaN   \n",
       "560  1.560  1.419  2.000  ...   NaN   NaN   NaN   NaN   NaN   NaN   NaN   NaN   \n",
       "561  0.648  1.202  4.475  ...   NaN   NaN   NaN   NaN   NaN   NaN   NaN   NaN   \n",
       "562  0.280  1.256  0.094  ...   NaN   NaN   NaN   NaN   NaN   NaN   NaN   NaN   \n",
       "563  0.723  0.391  1.117  ...   NaN   NaN   NaN   NaN   NaN   NaN   NaN   NaN   \n",
       "\n",
       "     2074  2075  \n",
       "0     NaN   NaN  \n",
       "1     NaN   NaN  \n",
       "2     NaN   NaN  \n",
       "3     NaN   NaN  \n",
       "4     NaN   NaN  \n",
       "..    ...   ...  \n",
       "559   NaN   NaN  \n",
       "560   NaN   NaN  \n",
       "561   NaN   NaN  \n",
       "562   NaN   NaN  \n",
       "563   NaN   NaN  \n",
       "\n",
       "[564 rows x 2077 columns]"
      ]
     },
     "execution_count": 31,
     "metadata": {},
     "output_type": "execute_result"
    }
   ],
   "source": [
    "Utterdf1"
   ]
  },
  {
   "cell_type": "code",
   "execution_count": 32,
   "id": "76556312-b2e5-4371-9d3b-8fb682fc465d",
   "metadata": {},
   "outputs": [
    {
     "ename": "KeyError",
     "evalue": "'C001_002'",
     "output_type": "error",
     "traceback": [
      "\u001b[0;31m---------------------------------------------------------------------------\u001b[0m",
      "\u001b[0;31mKeyError\u001b[0m                                  Traceback (most recent call last)",
      "\u001b[0;32m<ipython-input-32-78101a37ebc6>\u001b[0m in \u001b[0;36m<module>\u001b[0;34m\u001b[0m\n\u001b[0;32m----> 1\u001b[0;31m \u001b[0mutterTdf1\u001b[0m\u001b[0;34m[\u001b[0m\u001b[0;34m\"C001_002\"\u001b[0m\u001b[0;34m]\u001b[0m\u001b[0;34m.\u001b[0m\u001b[0mhist\u001b[0m\u001b[0;34m(\u001b[0m\u001b[0mbins\u001b[0m\u001b[0;34m=\u001b[0m\u001b[0;36m100\u001b[0m\u001b[0;34m,\u001b[0m \u001b[0mcolor\u001b[0m \u001b[0;34m=\u001b[0m \u001b[0;34m\"blue\"\u001b[0m\u001b[0;34m,\u001b[0m \u001b[0mgrid\u001b[0m \u001b[0;34m=\u001b[0m\u001b[0;32mTrue\u001b[0m\u001b[0;34m,\u001b[0m \u001b[0mlabel\u001b[0m \u001b[0;34m=\u001b[0m \u001b[0;34m'utter_time'\u001b[0m\u001b[0;34m)\u001b[0m\u001b[0;34m\u001b[0m\u001b[0;34m\u001b[0m\u001b[0m\n\u001b[0m\u001b[1;32m      2\u001b[0m \u001b[0mplt\u001b[0m\u001b[0;34m.\u001b[0m\u001b[0mylabel\u001b[0m\u001b[0;34m(\u001b[0m\u001b[0;34m'frequency'\u001b[0m\u001b[0;34m)\u001b[0m\u001b[0;34m\u001b[0m\u001b[0;34m\u001b[0m\u001b[0m\n\u001b[1;32m      3\u001b[0m \u001b[0mplt\u001b[0m\u001b[0;34m.\u001b[0m\u001b[0mxlabel\u001b[0m\u001b[0;34m(\u001b[0m\u001b[0;34m'Time'\u001b[0m\u001b[0;34m)\u001b[0m\u001b[0;34m\u001b[0m\u001b[0;34m\u001b[0m\u001b[0m\n\u001b[1;32m      4\u001b[0m \u001b[0mplt\u001b[0m\u001b[0;34m.\u001b[0m\u001b[0mlegend\u001b[0m\u001b[0;34m(\u001b[0m\u001b[0;34m)\u001b[0m\u001b[0;34m\u001b[0m\u001b[0;34m\u001b[0m\u001b[0m\n\u001b[1;32m      5\u001b[0m \u001b[0mplt\u001b[0m\u001b[0;34m.\u001b[0m\u001b[0mtitle\u001b[0m\u001b[0;34m(\u001b[0m\u001b[0;34m'C001_002_1'\u001b[0m\u001b[0;34m)\u001b[0m\u001b[0;34m\u001b[0m\u001b[0;34m\u001b[0m\u001b[0m\n",
      "\u001b[0;32m~/.pyenv/versions/3.7.10/lib/python3.7/site-packages/pandas/core/frame.py\u001b[0m in \u001b[0;36m__getitem__\u001b[0;34m(self, key)\u001b[0m\n\u001b[1;32m   3022\u001b[0m             \u001b[0;32mif\u001b[0m \u001b[0mself\u001b[0m\u001b[0;34m.\u001b[0m\u001b[0mcolumns\u001b[0m\u001b[0;34m.\u001b[0m\u001b[0mnlevels\u001b[0m \u001b[0;34m>\u001b[0m \u001b[0;36m1\u001b[0m\u001b[0;34m:\u001b[0m\u001b[0;34m\u001b[0m\u001b[0;34m\u001b[0m\u001b[0m\n\u001b[1;32m   3023\u001b[0m                 \u001b[0;32mreturn\u001b[0m \u001b[0mself\u001b[0m\u001b[0;34m.\u001b[0m\u001b[0m_getitem_multilevel\u001b[0m\u001b[0;34m(\u001b[0m\u001b[0mkey\u001b[0m\u001b[0;34m)\u001b[0m\u001b[0;34m\u001b[0m\u001b[0;34m\u001b[0m\u001b[0m\n\u001b[0;32m-> 3024\u001b[0;31m             \u001b[0mindexer\u001b[0m \u001b[0;34m=\u001b[0m \u001b[0mself\u001b[0m\u001b[0;34m.\u001b[0m\u001b[0mcolumns\u001b[0m\u001b[0;34m.\u001b[0m\u001b[0mget_loc\u001b[0m\u001b[0;34m(\u001b[0m\u001b[0mkey\u001b[0m\u001b[0;34m)\u001b[0m\u001b[0;34m\u001b[0m\u001b[0;34m\u001b[0m\u001b[0m\n\u001b[0m\u001b[1;32m   3025\u001b[0m             \u001b[0;32mif\u001b[0m \u001b[0mis_integer\u001b[0m\u001b[0;34m(\u001b[0m\u001b[0mindexer\u001b[0m\u001b[0;34m)\u001b[0m\u001b[0;34m:\u001b[0m\u001b[0;34m\u001b[0m\u001b[0;34m\u001b[0m\u001b[0m\n\u001b[1;32m   3026\u001b[0m                 \u001b[0mindexer\u001b[0m \u001b[0;34m=\u001b[0m \u001b[0;34m[\u001b[0m\u001b[0mindexer\u001b[0m\u001b[0;34m]\u001b[0m\u001b[0;34m\u001b[0m\u001b[0;34m\u001b[0m\u001b[0m\n",
      "\u001b[0;32m~/.pyenv/versions/3.7.10/lib/python3.7/site-packages/pandas/core/indexes/range.py\u001b[0m in \u001b[0;36mget_loc\u001b[0;34m(self, key, method, tolerance)\u001b[0m\n\u001b[1;32m    352\u001b[0m                 \u001b[0;32mexcept\u001b[0m \u001b[0mValueError\u001b[0m \u001b[0;32mas\u001b[0m \u001b[0merr\u001b[0m\u001b[0;34m:\u001b[0m\u001b[0;34m\u001b[0m\u001b[0;34m\u001b[0m\u001b[0m\n\u001b[1;32m    353\u001b[0m                     \u001b[0;32mraise\u001b[0m \u001b[0mKeyError\u001b[0m\u001b[0;34m(\u001b[0m\u001b[0mkey\u001b[0m\u001b[0;34m)\u001b[0m \u001b[0;32mfrom\u001b[0m \u001b[0merr\u001b[0m\u001b[0;34m\u001b[0m\u001b[0;34m\u001b[0m\u001b[0m\n\u001b[0;32m--> 354\u001b[0;31m             \u001b[0;32mraise\u001b[0m \u001b[0mKeyError\u001b[0m\u001b[0;34m(\u001b[0m\u001b[0mkey\u001b[0m\u001b[0;34m)\u001b[0m\u001b[0;34m\u001b[0m\u001b[0;34m\u001b[0m\u001b[0m\n\u001b[0m\u001b[1;32m    355\u001b[0m         \u001b[0;32mreturn\u001b[0m \u001b[0msuper\u001b[0m\u001b[0;34m(\u001b[0m\u001b[0;34m)\u001b[0m\u001b[0;34m.\u001b[0m\u001b[0mget_loc\u001b[0m\u001b[0;34m(\u001b[0m\u001b[0mkey\u001b[0m\u001b[0;34m,\u001b[0m \u001b[0mmethod\u001b[0m\u001b[0;34m=\u001b[0m\u001b[0mmethod\u001b[0m\u001b[0;34m,\u001b[0m \u001b[0mtolerance\u001b[0m\u001b[0;34m=\u001b[0m\u001b[0mtolerance\u001b[0m\u001b[0;34m)\u001b[0m\u001b[0;34m\u001b[0m\u001b[0;34m\u001b[0m\u001b[0m\n\u001b[1;32m    356\u001b[0m \u001b[0;34m\u001b[0m\u001b[0m\n",
      "\u001b[0;31mKeyError\u001b[0m: 'C001_002'"
     ]
    }
   ],
   "source": [
    "utterTdf1[\"C001_002\"].hist(bins=100, color = \"blue\", grid =True, label = 'utter_time')\n",
    "plt.ylabel('frequency')\n",
    "plt.xlabel('Time')\n",
    "plt.legend()\n",
    "plt.title('C001_002_1')\n",
    "#plt.savefig(\"pandas_hist.png\")\n",
    "plt.show()\n",
    "plt.close()\n",
    "\n",
    "#\n",
    "utterTdf2[\"C001_002\"].hist(bins=100, color = \"blue\", grid =True, label = 'utter_time')\n",
    "plt.ylabel('frequency')\n",
    "plt.xlabel('Time')\n",
    "plt.legend()\n",
    "plt.title('C001_002_2')\n",
    "#plt.savefig(\"pandas_hist.png\")\n",
    "plt.show()\n",
    "plt.close()"
   ]
  },
  {
   "cell_type": "code",
   "execution_count": 33,
   "id": "8f570826-897b-4f00-b4e8-a3cbe469b24c",
   "metadata": {},
   "outputs": [
    {
     "ename": "KeyError",
     "evalue": "'C001_003'",
     "output_type": "error",
     "traceback": [
      "\u001b[0;31m---------------------------------------------------------------------------\u001b[0m",
      "\u001b[0;31mKeyError\u001b[0m                                  Traceback (most recent call last)",
      "\u001b[0;32m<ipython-input-33-16794d315287>\u001b[0m in \u001b[0;36m<module>\u001b[0;34m\u001b[0m\n\u001b[0;32m----> 1\u001b[0;31m \u001b[0mutterTdf1\u001b[0m\u001b[0;34m[\u001b[0m\u001b[0;34m\"C001_003\"\u001b[0m\u001b[0;34m]\u001b[0m\u001b[0;34m.\u001b[0m\u001b[0mhist\u001b[0m\u001b[0;34m(\u001b[0m\u001b[0mbins\u001b[0m\u001b[0;34m=\u001b[0m\u001b[0;36m100\u001b[0m\u001b[0;34m,\u001b[0m \u001b[0mcolor\u001b[0m \u001b[0;34m=\u001b[0m \u001b[0;34m\"blue\"\u001b[0m\u001b[0;34m,\u001b[0m \u001b[0mgrid\u001b[0m \u001b[0;34m=\u001b[0m\u001b[0;32mTrue\u001b[0m\u001b[0;34m,\u001b[0m \u001b[0mlabel\u001b[0m \u001b[0;34m=\u001b[0m \u001b[0;34m'utter_time'\u001b[0m\u001b[0;34m)\u001b[0m\u001b[0;34m\u001b[0m\u001b[0;34m\u001b[0m\u001b[0m\n\u001b[0m\u001b[1;32m      2\u001b[0m \u001b[0mplt\u001b[0m\u001b[0;34m.\u001b[0m\u001b[0mylabel\u001b[0m\u001b[0;34m(\u001b[0m\u001b[0;34m'frequency'\u001b[0m\u001b[0;34m)\u001b[0m\u001b[0;34m\u001b[0m\u001b[0;34m\u001b[0m\u001b[0m\n\u001b[1;32m      3\u001b[0m \u001b[0mplt\u001b[0m\u001b[0;34m.\u001b[0m\u001b[0mxlabel\u001b[0m\u001b[0;34m(\u001b[0m\u001b[0;34m'Time'\u001b[0m\u001b[0;34m)\u001b[0m\u001b[0;34m\u001b[0m\u001b[0;34m\u001b[0m\u001b[0m\n\u001b[1;32m      4\u001b[0m \u001b[0mplt\u001b[0m\u001b[0;34m.\u001b[0m\u001b[0mlegend\u001b[0m\u001b[0;34m(\u001b[0m\u001b[0;34m)\u001b[0m\u001b[0;34m\u001b[0m\u001b[0;34m\u001b[0m\u001b[0m\n\u001b[1;32m      5\u001b[0m \u001b[0mplt\u001b[0m\u001b[0;34m.\u001b[0m\u001b[0mtitle\u001b[0m\u001b[0;34m(\u001b[0m\u001b[0;34m'C001_003_1'\u001b[0m\u001b[0;34m)\u001b[0m\u001b[0;34m\u001b[0m\u001b[0;34m\u001b[0m\u001b[0m\n",
      "\u001b[0;32m~/.pyenv/versions/3.7.10/lib/python3.7/site-packages/pandas/core/frame.py\u001b[0m in \u001b[0;36m__getitem__\u001b[0;34m(self, key)\u001b[0m\n\u001b[1;32m   3022\u001b[0m             \u001b[0;32mif\u001b[0m \u001b[0mself\u001b[0m\u001b[0;34m.\u001b[0m\u001b[0mcolumns\u001b[0m\u001b[0;34m.\u001b[0m\u001b[0mnlevels\u001b[0m \u001b[0;34m>\u001b[0m \u001b[0;36m1\u001b[0m\u001b[0;34m:\u001b[0m\u001b[0;34m\u001b[0m\u001b[0;34m\u001b[0m\u001b[0m\n\u001b[1;32m   3023\u001b[0m                 \u001b[0;32mreturn\u001b[0m \u001b[0mself\u001b[0m\u001b[0;34m.\u001b[0m\u001b[0m_getitem_multilevel\u001b[0m\u001b[0;34m(\u001b[0m\u001b[0mkey\u001b[0m\u001b[0;34m)\u001b[0m\u001b[0;34m\u001b[0m\u001b[0;34m\u001b[0m\u001b[0m\n\u001b[0;32m-> 3024\u001b[0;31m             \u001b[0mindexer\u001b[0m \u001b[0;34m=\u001b[0m \u001b[0mself\u001b[0m\u001b[0;34m.\u001b[0m\u001b[0mcolumns\u001b[0m\u001b[0;34m.\u001b[0m\u001b[0mget_loc\u001b[0m\u001b[0;34m(\u001b[0m\u001b[0mkey\u001b[0m\u001b[0;34m)\u001b[0m\u001b[0;34m\u001b[0m\u001b[0;34m\u001b[0m\u001b[0m\n\u001b[0m\u001b[1;32m   3025\u001b[0m             \u001b[0;32mif\u001b[0m \u001b[0mis_integer\u001b[0m\u001b[0;34m(\u001b[0m\u001b[0mindexer\u001b[0m\u001b[0;34m)\u001b[0m\u001b[0;34m:\u001b[0m\u001b[0;34m\u001b[0m\u001b[0;34m\u001b[0m\u001b[0m\n\u001b[1;32m   3026\u001b[0m                 \u001b[0mindexer\u001b[0m \u001b[0;34m=\u001b[0m \u001b[0;34m[\u001b[0m\u001b[0mindexer\u001b[0m\u001b[0;34m]\u001b[0m\u001b[0;34m\u001b[0m\u001b[0;34m\u001b[0m\u001b[0m\n",
      "\u001b[0;32m~/.pyenv/versions/3.7.10/lib/python3.7/site-packages/pandas/core/indexes/range.py\u001b[0m in \u001b[0;36mget_loc\u001b[0;34m(self, key, method, tolerance)\u001b[0m\n\u001b[1;32m    352\u001b[0m                 \u001b[0;32mexcept\u001b[0m \u001b[0mValueError\u001b[0m \u001b[0;32mas\u001b[0m \u001b[0merr\u001b[0m\u001b[0;34m:\u001b[0m\u001b[0;34m\u001b[0m\u001b[0;34m\u001b[0m\u001b[0m\n\u001b[1;32m    353\u001b[0m                     \u001b[0;32mraise\u001b[0m \u001b[0mKeyError\u001b[0m\u001b[0;34m(\u001b[0m\u001b[0mkey\u001b[0m\u001b[0;34m)\u001b[0m \u001b[0;32mfrom\u001b[0m \u001b[0merr\u001b[0m\u001b[0;34m\u001b[0m\u001b[0;34m\u001b[0m\u001b[0m\n\u001b[0;32m--> 354\u001b[0;31m             \u001b[0;32mraise\u001b[0m \u001b[0mKeyError\u001b[0m\u001b[0;34m(\u001b[0m\u001b[0mkey\u001b[0m\u001b[0;34m)\u001b[0m\u001b[0;34m\u001b[0m\u001b[0;34m\u001b[0m\u001b[0m\n\u001b[0m\u001b[1;32m    355\u001b[0m         \u001b[0;32mreturn\u001b[0m \u001b[0msuper\u001b[0m\u001b[0;34m(\u001b[0m\u001b[0;34m)\u001b[0m\u001b[0;34m.\u001b[0m\u001b[0mget_loc\u001b[0m\u001b[0;34m(\u001b[0m\u001b[0mkey\u001b[0m\u001b[0;34m,\u001b[0m \u001b[0mmethod\u001b[0m\u001b[0;34m=\u001b[0m\u001b[0mmethod\u001b[0m\u001b[0;34m,\u001b[0m \u001b[0mtolerance\u001b[0m\u001b[0;34m=\u001b[0m\u001b[0mtolerance\u001b[0m\u001b[0;34m)\u001b[0m\u001b[0;34m\u001b[0m\u001b[0;34m\u001b[0m\u001b[0m\n\u001b[1;32m    356\u001b[0m \u001b[0;34m\u001b[0m\u001b[0m\n",
      "\u001b[0;31mKeyError\u001b[0m: 'C001_003'"
     ]
    }
   ],
   "source": [
    "utterTdf1[\"C001_003\"].hist(bins=100, color = \"blue\", grid =True, label = 'utter_time')\n",
    "plt.ylabel('frequency')\n",
    "plt.xlabel('Time')\n",
    "plt.legend()\n",
    "plt.title('C001_003_1')\n",
    "#plt.savefig(\"pandas_hist.png\")\n",
    "plt.show()\n",
    "plt.close()\n",
    "\n",
    "#\n",
    "utterTdf2[\"C001_003\"].hist(bins=100, color = \"blue\", grid =True, label = 'utter_time')\n",
    "plt.ylabel('frequency')\n",
    "plt.xlabel('Time')\n",
    "plt.legend()\n",
    "plt.title('C001_003_2')\n",
    "#plt.savefig(\"pandas_hist.png\")\n",
    "plt.show()\n",
    "plt.close()"
   ]
  },
  {
   "cell_type": "code",
   "execution_count": 34,
   "id": "16172db4-21f9-4c08-a832-5dd93092c023",
   "metadata": {},
   "outputs": [
    {
     "ename": "KeyError",
     "evalue": "'C001_004'",
     "output_type": "error",
     "traceback": [
      "\u001b[0;31m---------------------------------------------------------------------------\u001b[0m",
      "\u001b[0;31mKeyError\u001b[0m                                  Traceback (most recent call last)",
      "\u001b[0;32m<ipython-input-34-1cfaeb7d90d7>\u001b[0m in \u001b[0;36m<module>\u001b[0;34m\u001b[0m\n\u001b[0;32m----> 1\u001b[0;31m \u001b[0mutterTdf1\u001b[0m\u001b[0;34m[\u001b[0m\u001b[0;34m\"C001_004\"\u001b[0m\u001b[0;34m]\u001b[0m\u001b[0;34m.\u001b[0m\u001b[0mhist\u001b[0m\u001b[0;34m(\u001b[0m\u001b[0mbins\u001b[0m\u001b[0;34m=\u001b[0m\u001b[0;36m100\u001b[0m\u001b[0;34m,\u001b[0m \u001b[0mcolor\u001b[0m \u001b[0;34m=\u001b[0m \u001b[0;34m\"blue\"\u001b[0m\u001b[0;34m,\u001b[0m \u001b[0mgrid\u001b[0m \u001b[0;34m=\u001b[0m\u001b[0;32mTrue\u001b[0m\u001b[0;34m,\u001b[0m \u001b[0mlabel\u001b[0m \u001b[0;34m=\u001b[0m \u001b[0;34m'utter_time'\u001b[0m\u001b[0;34m)\u001b[0m\u001b[0;34m\u001b[0m\u001b[0;34m\u001b[0m\u001b[0m\n\u001b[0m\u001b[1;32m      2\u001b[0m \u001b[0mplt\u001b[0m\u001b[0;34m.\u001b[0m\u001b[0mylabel\u001b[0m\u001b[0;34m(\u001b[0m\u001b[0;34m'frequency'\u001b[0m\u001b[0;34m)\u001b[0m\u001b[0;34m\u001b[0m\u001b[0;34m\u001b[0m\u001b[0m\n\u001b[1;32m      3\u001b[0m \u001b[0mplt\u001b[0m\u001b[0;34m.\u001b[0m\u001b[0mxlabel\u001b[0m\u001b[0;34m(\u001b[0m\u001b[0;34m'Time'\u001b[0m\u001b[0;34m)\u001b[0m\u001b[0;34m\u001b[0m\u001b[0;34m\u001b[0m\u001b[0m\n\u001b[1;32m      4\u001b[0m \u001b[0mplt\u001b[0m\u001b[0;34m.\u001b[0m\u001b[0mlegend\u001b[0m\u001b[0;34m(\u001b[0m\u001b[0;34m)\u001b[0m\u001b[0;34m\u001b[0m\u001b[0;34m\u001b[0m\u001b[0m\n\u001b[1;32m      5\u001b[0m \u001b[0mplt\u001b[0m\u001b[0;34m.\u001b[0m\u001b[0mtitle\u001b[0m\u001b[0;34m(\u001b[0m\u001b[0;34m'C001_004_1'\u001b[0m\u001b[0;34m)\u001b[0m\u001b[0;34m\u001b[0m\u001b[0;34m\u001b[0m\u001b[0m\n",
      "\u001b[0;32m~/.pyenv/versions/3.7.10/lib/python3.7/site-packages/pandas/core/frame.py\u001b[0m in \u001b[0;36m__getitem__\u001b[0;34m(self, key)\u001b[0m\n\u001b[1;32m   3022\u001b[0m             \u001b[0;32mif\u001b[0m \u001b[0mself\u001b[0m\u001b[0;34m.\u001b[0m\u001b[0mcolumns\u001b[0m\u001b[0;34m.\u001b[0m\u001b[0mnlevels\u001b[0m \u001b[0;34m>\u001b[0m \u001b[0;36m1\u001b[0m\u001b[0;34m:\u001b[0m\u001b[0;34m\u001b[0m\u001b[0;34m\u001b[0m\u001b[0m\n\u001b[1;32m   3023\u001b[0m                 \u001b[0;32mreturn\u001b[0m \u001b[0mself\u001b[0m\u001b[0;34m.\u001b[0m\u001b[0m_getitem_multilevel\u001b[0m\u001b[0;34m(\u001b[0m\u001b[0mkey\u001b[0m\u001b[0;34m)\u001b[0m\u001b[0;34m\u001b[0m\u001b[0;34m\u001b[0m\u001b[0m\n\u001b[0;32m-> 3024\u001b[0;31m             \u001b[0mindexer\u001b[0m \u001b[0;34m=\u001b[0m \u001b[0mself\u001b[0m\u001b[0;34m.\u001b[0m\u001b[0mcolumns\u001b[0m\u001b[0;34m.\u001b[0m\u001b[0mget_loc\u001b[0m\u001b[0;34m(\u001b[0m\u001b[0mkey\u001b[0m\u001b[0;34m)\u001b[0m\u001b[0;34m\u001b[0m\u001b[0;34m\u001b[0m\u001b[0m\n\u001b[0m\u001b[1;32m   3025\u001b[0m             \u001b[0;32mif\u001b[0m \u001b[0mis_integer\u001b[0m\u001b[0;34m(\u001b[0m\u001b[0mindexer\u001b[0m\u001b[0;34m)\u001b[0m\u001b[0;34m:\u001b[0m\u001b[0;34m\u001b[0m\u001b[0;34m\u001b[0m\u001b[0m\n\u001b[1;32m   3026\u001b[0m                 \u001b[0mindexer\u001b[0m \u001b[0;34m=\u001b[0m \u001b[0;34m[\u001b[0m\u001b[0mindexer\u001b[0m\u001b[0;34m]\u001b[0m\u001b[0;34m\u001b[0m\u001b[0;34m\u001b[0m\u001b[0m\n",
      "\u001b[0;32m~/.pyenv/versions/3.7.10/lib/python3.7/site-packages/pandas/core/indexes/range.py\u001b[0m in \u001b[0;36mget_loc\u001b[0;34m(self, key, method, tolerance)\u001b[0m\n\u001b[1;32m    352\u001b[0m                 \u001b[0;32mexcept\u001b[0m \u001b[0mValueError\u001b[0m \u001b[0;32mas\u001b[0m \u001b[0merr\u001b[0m\u001b[0;34m:\u001b[0m\u001b[0;34m\u001b[0m\u001b[0;34m\u001b[0m\u001b[0m\n\u001b[1;32m    353\u001b[0m                     \u001b[0;32mraise\u001b[0m \u001b[0mKeyError\u001b[0m\u001b[0;34m(\u001b[0m\u001b[0mkey\u001b[0m\u001b[0;34m)\u001b[0m \u001b[0;32mfrom\u001b[0m \u001b[0merr\u001b[0m\u001b[0;34m\u001b[0m\u001b[0;34m\u001b[0m\u001b[0m\n\u001b[0;32m--> 354\u001b[0;31m             \u001b[0;32mraise\u001b[0m \u001b[0mKeyError\u001b[0m\u001b[0;34m(\u001b[0m\u001b[0mkey\u001b[0m\u001b[0;34m)\u001b[0m\u001b[0;34m\u001b[0m\u001b[0;34m\u001b[0m\u001b[0m\n\u001b[0m\u001b[1;32m    355\u001b[0m         \u001b[0;32mreturn\u001b[0m \u001b[0msuper\u001b[0m\u001b[0;34m(\u001b[0m\u001b[0;34m)\u001b[0m\u001b[0;34m.\u001b[0m\u001b[0mget_loc\u001b[0m\u001b[0;34m(\u001b[0m\u001b[0mkey\u001b[0m\u001b[0;34m,\u001b[0m \u001b[0mmethod\u001b[0m\u001b[0;34m=\u001b[0m\u001b[0mmethod\u001b[0m\u001b[0;34m,\u001b[0m \u001b[0mtolerance\u001b[0m\u001b[0;34m=\u001b[0m\u001b[0mtolerance\u001b[0m\u001b[0;34m)\u001b[0m\u001b[0;34m\u001b[0m\u001b[0;34m\u001b[0m\u001b[0m\n\u001b[1;32m    356\u001b[0m \u001b[0;34m\u001b[0m\u001b[0m\n",
      "\u001b[0;31mKeyError\u001b[0m: 'C001_004'"
     ]
    }
   ],
   "source": [
    "utterTdf1[\"C001_004\"].hist(bins=100, color = \"blue\", grid =True, label = 'utter_time')\n",
    "plt.ylabel('frequency')\n",
    "plt.xlabel('Time')\n",
    "plt.legend()\n",
    "plt.title('C001_004_1')\n",
    "#plt.savefig(\"pandas_hist.png\")\n",
    "plt.show()\n",
    "plt.close()\n",
    "\n",
    "#\n",
    "utterTdf2[\"C001_004\"].hist(bins=100, color = \"blue\", grid =True, label = 'utter_time')\n",
    "plt.ylabel('frequency')\n",
    "plt.xlabel('Time')\n",
    "plt.legend()\n",
    "plt.title('C001_004_2')\n",
    "#plt.savefig(\"pandas_hist.png\")\n",
    "plt.show()\n",
    "plt.close()"
   ]
  },
  {
   "cell_type": "code",
   "execution_count": null,
   "id": "ee06fcb8-093f-4546-9b37-f55eec1ff2ee",
   "metadata": {},
   "outputs": [],
   "source": []
  },
  {
   "cell_type": "code",
   "execution_count": null,
   "id": "1d2de96f-8d5b-4ca4-bd12-67ab83db988f",
   "metadata": {},
   "outputs": [],
   "source": []
  },
  {
   "cell_type": "code",
   "execution_count": null,
   "id": "8626e150-2981-4644-86d1-9cb895df0cf9",
   "metadata": {},
   "outputs": [],
   "source": []
  },
  {
   "cell_type": "code",
   "execution_count": null,
   "id": "8d0aa208-340b-494f-a766-3eebcfabbfc5",
   "metadata": {},
   "outputs": [],
   "source": []
  },
  {
   "cell_type": "code",
   "execution_count": null,
   "id": "6cbf0774-aed4-42b2-924f-1e1bc9c45492",
   "metadata": {},
   "outputs": [],
   "source": []
  },
  {
   "cell_type": "code",
   "execution_count": null,
   "id": "941ba143-8cc6-4689-9fe3-75aed2b68755",
   "metadata": {},
   "outputs": [],
   "source": []
  },
  {
   "cell_type": "code",
   "execution_count": null,
   "id": "bffd7020-7b4d-48db-bdd1-6e5c39af6d6e",
   "metadata": {},
   "outputs": [],
   "source": []
  },
  {
   "cell_type": "code",
   "execution_count": null,
   "id": "63fe3ba1-c8a4-44ce-a2ad-28316ea54626",
   "metadata": {},
   "outputs": [],
   "source": []
  },
  {
   "cell_type": "code",
   "execution_count": 72,
   "id": "93aa9f72-0e3f-4a14-85eb-5b274cc2e09b",
   "metadata": {},
   "outputs": [],
   "source": [
    "\n",
    "tg = read_textgrid(\"./data/K001/K001_004/K001_004-transUnit.TextGrid\")\n",
    "tier_name = tg.get_tier_names()\n",
    "tier1 = tg.get_tier_by_name(tier_name[0])\n",
    "tier2 = tg.get_tier_by_name(tier_name[1])\n",
    "    #発話時間\n",
    "utterTime1 = [interval.end_time - interval.start_time for interval in tier1 if interval.text != \"pz\"]\n",
    "utterTime2 = [interval.end_time - interval.start_time for interval in tier2 if interval.text != \"pz\"]\n",
    "\n",
    "utterTime1 = DataFrame(utterTime1)\n",
    "utterTime2 = DataFrame(utterTime2)"
   ]
  },
  {
   "cell_type": "code",
   "execution_count": 73,
   "id": "0f739f85-29f5-49e7-bcd3-3efd684322e1",
   "metadata": {},
   "outputs": [
    {
     "data": {
      "image/png": "[encoded data removed]",
      "text/plain": [
       "<Figure size 432x288 with 1 Axes>"
      ]
     },
     "metadata": {
      "needs_background": "light"
     },
     "output_type": "display_data"
    }
   ],
   "source": [
    "utterTime1.hist(bins=100, color = \"blue\", grid =True, label = 'utter_time')\n",
    "plt.rcParams['font.family'] = \"Hiragino Mincho ProN\"\n",
    "plt.xlim(0, 6)                # x軸の表示範囲\n",
    "plt.ylim(0, 30)  \n",
    "plt.ylabel('度数(回)',fontsize=15)\n",
    "plt.xlabel('発話時間(秒)',fontsize=15)\n",
    "plt.legend()\n",
    "plt.title('K001_004',fontsize=15)\n",
    "plt.savefig(\"/Users/katouryuusei/Library/CloudStorage/Dropbox/B4seminar/卒業研究提出書類/卒論本体/2023_01_10_卒業論文/figures/hatsuwaHist1.png\")\n",
    "plt.show()\n",
    "plt.close()"
   ]
  },
  {
   "cell_type": "code",
   "execution_count": 74,
   "id": "7ddb1427-4bb3-4279-8e50-88f67c8db7ef",
   "metadata": {},
   "outputs": [
    {
     "ename": "UnicodeDecodeError",
     "evalue": "'utf-8' codec can't decode byte 0x92 in position 64: invalid start byte",
     "output_type": "error",
     "traceback": [
      "\u001b[0;31m---------------------------------------------------------------------------\u001b[0m",
      "\u001b[0;31mUnicodeDecodeError\u001b[0m                        Traceback (most recent call last)",
      "\u001b[0;32m<ipython-input-74-64723666326f>\u001b[0m in \u001b[0;36m<module>\u001b[0;34m\u001b[0m\n\u001b[0;32m----> 1\u001b[0;31m \u001b[0mtg\u001b[0m \u001b[0;34m=\u001b[0m \u001b[0mread_textgrid\u001b[0m\u001b[0;34m(\u001b[0m\u001b[0;34m\"./data/K001/K001_009/K001_009-transUnit.csv\"\u001b[0m\u001b[0;34m)\u001b[0m\u001b[0;34m\u001b[0m\u001b[0;34m\u001b[0m\u001b[0m\n\u001b[0m\u001b[1;32m      2\u001b[0m \u001b[0mtier_name\u001b[0m \u001b[0;34m=\u001b[0m \u001b[0mtg\u001b[0m\u001b[0;34m.\u001b[0m\u001b[0mget_tier_names\u001b[0m\u001b[0;34m(\u001b[0m\u001b[0;34m)\u001b[0m\u001b[0;34m\u001b[0m\u001b[0;34m\u001b[0m\u001b[0m\n\u001b[1;32m      3\u001b[0m \u001b[0mtier1\u001b[0m \u001b[0;34m=\u001b[0m \u001b[0mtg\u001b[0m\u001b[0;34m.\u001b[0m\u001b[0mget_tier_by_name\u001b[0m\u001b[0;34m(\u001b[0m\u001b[0mtier_name\u001b[0m\u001b[0;34m[\u001b[0m\u001b[0;36m0\u001b[0m\u001b[0;34m]\u001b[0m\u001b[0;34m)\u001b[0m\u001b[0;34m\u001b[0m\u001b[0;34m\u001b[0m\u001b[0m\n\u001b[1;32m      4\u001b[0m \u001b[0mtier2\u001b[0m \u001b[0;34m=\u001b[0m \u001b[0mtg\u001b[0m\u001b[0;34m.\u001b[0m\u001b[0mget_tier_by_name\u001b[0m\u001b[0;34m(\u001b[0m\u001b[0mtier_name\u001b[0m\u001b[0;34m[\u001b[0m\u001b[0;36m1\u001b[0m\u001b[0;34m]\u001b[0m\u001b[0;34m)\u001b[0m\u001b[0;34m\u001b[0m\u001b[0;34m\u001b[0m\u001b[0m\n\u001b[1;32m      5\u001b[0m     \u001b[0;31m#発話時間\u001b[0m\u001b[0;34m\u001b[0m\u001b[0;34m\u001b[0m\u001b[0;34m\u001b[0m\u001b[0m\n",
      "\u001b[0;32m~/.pyenv/versions/3.7.10/lib/python3.7/site-packages/tgt/io3.py\u001b[0m in \u001b[0;36mread_textgrid\u001b[0;34m(filename, encoding, include_empty_intervals)\u001b[0m\n\u001b[1;32m     42\u001b[0m         \u001b[0;31m# Read whole file into memory ignoring empty lines and lines consisting\u001b[0m\u001b[0;34m\u001b[0m\u001b[0;34m\u001b[0m\u001b[0;34m\u001b[0m\u001b[0m\n\u001b[1;32m     43\u001b[0m         \u001b[0;31m# solely of a single double quotes.\u001b[0m\u001b[0;34m\u001b[0m\u001b[0;34m\u001b[0m\u001b[0;34m\u001b[0m\u001b[0m\n\u001b[0;32m---> 44\u001b[0;31m         stg = [line.strip() for line in f.readlines()\n\u001b[0m\u001b[1;32m     45\u001b[0m             if line.strip() not in ['', '\"']]\n\u001b[1;32m     46\u001b[0m     if ((stg[0] != 'File type = \"ooTextFile\"' or stg[1] != 'Object class = \"TextGrid\"')\n",
      "\u001b[0;32m~/.pyenv/versions/3.7.10/lib/python3.7/codecs.py\u001b[0m in \u001b[0;36mdecode\u001b[0;34m(self, input, final)\u001b[0m\n\u001b[1;32m    320\u001b[0m         \u001b[0;31m# decode input (taking the buffer into account)\u001b[0m\u001b[0;34m\u001b[0m\u001b[0;34m\u001b[0m\u001b[0;34m\u001b[0m\u001b[0m\n\u001b[1;32m    321\u001b[0m         \u001b[0mdata\u001b[0m \u001b[0;34m=\u001b[0m \u001b[0mself\u001b[0m\u001b[0;34m.\u001b[0m\u001b[0mbuffer\u001b[0m \u001b[0;34m+\u001b[0m \u001b[0minput\u001b[0m\u001b[0;34m\u001b[0m\u001b[0;34m\u001b[0m\u001b[0m\n\u001b[0;32m--> 322\u001b[0;31m         \u001b[0;34m(\u001b[0m\u001b[0mresult\u001b[0m\u001b[0;34m,\u001b[0m \u001b[0mconsumed\u001b[0m\u001b[0;34m)\u001b[0m \u001b[0;34m=\u001b[0m \u001b[0mself\u001b[0m\u001b[0;34m.\u001b[0m\u001b[0m_buffer_decode\u001b[0m\u001b[0;34m(\u001b[0m\u001b[0mdata\u001b[0m\u001b[0;34m,\u001b[0m \u001b[0mself\u001b[0m\u001b[0;34m.\u001b[0m\u001b[0merrors\u001b[0m\u001b[0;34m,\u001b[0m \u001b[0mfinal\u001b[0m\u001b[0;34m)\u001b[0m\u001b[0;34m\u001b[0m\u001b[0;34m\u001b[0m\u001b[0m\n\u001b[0m\u001b[1;32m    323\u001b[0m         \u001b[0;31m# keep undecoded input until the next call\u001b[0m\u001b[0;34m\u001b[0m\u001b[0;34m\u001b[0m\u001b[0;34m\u001b[0m\u001b[0m\n\u001b[1;32m    324\u001b[0m         \u001b[0mself\u001b[0m\u001b[0;34m.\u001b[0m\u001b[0mbuffer\u001b[0m \u001b[0;34m=\u001b[0m \u001b[0mdata\u001b[0m\u001b[0;34m[\u001b[0m\u001b[0mconsumed\u001b[0m\u001b[0;34m:\u001b[0m\u001b[0;34m]\u001b[0m\u001b[0;34m\u001b[0m\u001b[0;34m\u001b[0m\u001b[0m\n",
      "\u001b[0;31mUnicodeDecodeError\u001b[0m: 'utf-8' codec can't decode byte 0x92 in position 64: invalid start byte"
     ]
    }
   ],
   "source": [
    "tg = read_textgrid(\"./data/K001/K001_009/K001_009-transUnit.csv\")\n",
    "tier_name = tg.get_tier_names()\n",
    "tier1 = tg.get_tier_by_name(tier_name[0])\n",
    "tier2 = tg.get_tier_by_name(tier_name[1])\n",
    "    #発話時間\n",
    "utterTime1 = [interval.end_time - interval.start_time for interval in tier1 if interval.text != \"pz\"]\n",
    "utterTime2 = [interval.end_time - interval.start_time for interval in tier2 if interval.text != \"pz\"]\n",
    "\n",
    "utterTime1 = DataFrame(utterTime1)\n",
    "utterTime2 = DataFrame(utterTime2)"
   ]
  },
  {
   "cell_type": "code",
   "execution_count": 75,
   "id": "3a82073e-0090-4b1f-8be5-a0f01cc65816",
   "metadata": {},
   "outputs": [
    {
     "data": {
      "image/png": "[encoded data removed]",
      "text/plain": [
       "<Figure size 432x288 with 1 Axes>"
      ]
     },
     "metadata": {
      "needs_background": "light"
     },
     "output_type": "display_data"
    }
   ],
   "source": [
    "utterTime1.hist(bins=100, color = \"blue\", grid =True, label = 'utter_time')\n",
    "plt.rcParams['font.family'] = \"Hiragino Mincho ProN\"\n",
    "plt.xlim(0, 6)                # x軸の表示範囲\n",
    "plt.ylim(0, 30)  \n",
    "plt.ylabel('度数(回)',fontsize=15)\n",
    "plt.xlabel('発話時間(秒)',fontsize=15)\n",
    "plt.legend()\n",
    "plt.title('K001_009',fontsize=15)\n",
    "plt.savefig(\"/Users/katouryuusei/Library/CloudStorage/Dropbox/B4seminar/卒業研究提出書類/卒論本体/2023_01_10_卒業論文/figures/hatsuwaHist2.png\")\n",
    "plt.show()\n",
    "plt.close()"
   ]
  },
  {
   "cell_type": "code",
   "execution_count": 76,
   "id": "8a34f544-f86f-4256-b110-c7cf82f292f5",
   "metadata": {},
   "outputs": [],
   "source": [
    "tg = read_textgrid(\"./data/T008/T008_011/T008_011-transUnit.TextGrid\")\n",
    "tier_name = tg.get_tier_names()\n",
    "tier1 = tg.get_tier_by_name(tier_name[0])\n",
    "tier2 = tg.get_tier_by_name(tier_name[1])\n",
    "    #発話時間\n",
    "utterTime1 = [interval.end_time - interval.start_time for interval in tier1 if interval.text != \"pz\"]\n",
    "utterTime2 = [interval.end_time - interval.start_time for interval in tier2 if interval.text != \"pz\"]\n",
    "\n",
    "utterTime1 = DataFrame(utterTime1)\n",
    "utterTime2 = DataFrame(utterTime2)"
   ]
  },
  {
   "cell_type": "code",
   "execution_count": 77,
   "id": "ada658db-8cee-4954-a923-c307f3ce3a82",
   "metadata": {},
   "outputs": [
    {
     "data": {
      "image/png": "[encoded data removed]",
      "text/plain": [
       "<Figure size 432x288 with 1 Axes>"
      ]
     },
     "metadata": {
      "needs_background": "light"
     },
     "output_type": "display_data"
    }
   ],
   "source": [
    "utterTime1.hist(bins=100, color = \"blue\", grid =True, label = 'utter_time')\n",
    "plt.rcParams['font.family'] = \"Hiragino Mincho ProN\"\n",
    "plt.xlim(0, 6)                # x軸の表示範囲\n",
    "plt.ylim(0, 30)\n",
    "plt.ylabel('度数(回)',fontsize=15)\n",
    "plt.xlabel('発話時間(秒)',fontsize=15)\n",
    "plt.legend()\n",
    "plt.title('T008_011',fontsize=15)\n",
    "plt.savefig(\"/Users/katouryuusei/Library/CloudStorage/Dropbox/B4seminar/卒業研究提出書類/卒論本体/2023_01_10_卒業論文/figures/hatsuwaHist3.png\")\n",
    "plt.show()\n",
    "plt.close()"
   ]
  },
  {
   "cell_type": "code",
   "execution_count": 78,
   "id": "9b0e6fa5-66e2-453d-adc9-693baa1fda87",
   "metadata": {},
   "outputs": [],
   "source": [
    "tg = read_textgrid(\"./data/T008/T008_013/T008_013-transUnit.TextGrid\")\n",
    "tier_name = tg.get_tier_names()\n",
    "tier1 = tg.get_tier_by_name(tier_name[0])\n",
    "tier2 = tg.get_tier_by_name(tier_name[1])\n",
    "    #発話時間\n",
    "utterTime1 = [interval.end_time - interval.start_time for interval in tier1 if interval.text != \"pz\"]\n",
    "utterTime2 = [interval.end_time - interval.start_time for interval in tier2 if interval.text != \"pz\"]\n",
    "\n",
    "utterTime1 = DataFrame(utterTime1)\n",
    "utterTime2 = DataFrame(utterTime2)"
   ]
  },
  {
   "cell_type": "code",
   "execution_count": 79,
   "id": "d6d91c96-e4f9-4ee2-aceb-73dd914cd7cc",
   "metadata": {},
   "outputs": [
    {
     "data": {
      "image/png": "[encoded data removed]",
      "text/plain": [
       "<Figure size 432x288 with 1 Axes>"
      ]
     },
     "metadata": {
      "needs_background": "light"
     },
     "output_type": "display_data"
    }
   ],
   "source": [
    "utterTime1.hist(bins=100, color = \"blue\", grid =True, label = 'utter_time')\n",
    "plt.rcParams['font.family'] = \"Hiragino Mincho ProN\"\n",
    "plt.xlim(0, 6)                # x軸の表示範囲\n",
    "plt.ylim(0, 30)\n",
    "plt.ylabel('度数(回)',fontsize=15)\n",
    "plt.xlabel('発話時間(秒)',fontsize=15)\n",
    "plt.legend()\n",
    "plt.title('T008_013',fontsize=15)\n",
    "plt.savefig(\"/Users/katouryuusei/Library/CloudStorage/Dropbox/B4seminar/卒業研究提出書類/卒論本体/2023_01_10_卒業論文/figures/hatsuwaHist4.png\")\n",
    "plt.show()\n",
    "plt.close()"
   ]
  },
  {
   "cell_type": "code",
   "execution_count": null,
   "id": "6fcfe298-bd74-4b8a-9eb1-a547ae532bd0",
   "metadata": {},
   "outputs": [],
   "source": []
  }
 ],
 "metadata": {
  "kernelspec": {
   "display_name": "Python 3",
   "language": "python",
   "name": "python3"
  },
  "language_info": {
   "codemirror_mode": {
    "name": "ipython",
    "version": 3
   },
   "file_extension": ".py",
   "mimetype": "text/x-python",
   "name": "python",
   "nbconvert_exporter": "python",
   "pygments_lexer": "ipython3",
   "version": "3.7.10"
  }
 },
 "nbformat": 4,
 "nbformat_minor": 5
}
