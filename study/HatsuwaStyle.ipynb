{
 "cells": [
  {
   "cell_type": "code",
   "execution_count": 1,
   "metadata": {},
   "outputs": [],
   "source": [
    "import opensmile\n",
    "import pandas as pd\n",
    "import numpy as np\n",
    "from pandas import DataFrame\n",
    "from glob import glob\n",
    "import matplotlib.pyplot as plt\n",
    "import seaborn as sns\n",
    "import scipy.stats as stats\n"
   ]
  },
  {
   "cell_type": "code",
   "execution_count": 2,
   "metadata": {},
   "outputs": [],
   "source": [
    "smile = opensmile.Smile(\n",
    "    # FeatureSet　の後を変えれば他の音響特徴量セットに変えることができる\n",
    "    feature_set=opensmile.FeatureSet.eGeMAPSv02,\n",
    "    feature_level=opensmile.FeatureLevel.Functionals,\n",
    ")\n"
   ]
  },
  {
   "cell_type": "code",
   "execution_count": 205,
   "metadata": {},
   "outputs": [],
   "source": [
    "pathlist = glob(\"./data_cut/**/**/*.wav\")\n",
    "pathlist = sorted(pathlist)"
   ]
  },
  {
   "cell_type": "code",
   "execution_count": null,
   "metadata": {},
   "outputs": [],
   "source": [
    "#音響特徴量のデータフレームを作る\n",
    "\n",
    "#あるディレクトリにあるパス名を全て取得\n",
    "pathlist = glob(\"./data_cut/**/**/*.wav\")\n",
    "pathlist = sorted(pathlist)\n",
    "\n",
    "\n",
    "#全ての音響特徴量のデータフレームを作成\n",
    "wav = DataFrame()\n",
    "for i in range(len(pathlist)):\n",
    "    feature = smile.process_file(pathlist[i])\n",
    "    wav = wav.append(feature)\n",
    "\n",
    "wav.to_csv(\"./wav/Opensmilewav.csv\")"
   ]
  },
  {
   "cell_type": "code",
   "execution_count": 6,
   "metadata": {},
   "outputs": [],
   "source": [
    "#偏回帰係数の値を読み込む\n",
    "meiryousa = pd.read_csv(\"./csv/modelI.csv\")\n",
    "shitashisa = pd.read_csv(\"./csv/modelF.csv\")\n",
    "syakaikaisou = pd.read_csv(\"./csv/modelC.csv\")\n",
    "\n",
    "wav = pd.read_csv(\"./csv/Opensmilewav.csv\")"
   ]
  },
  {
   "cell_type": "code",
   "execution_count": 61,
   "metadata": {},
   "outputs": [
    {
     "data": {
      "text/plain": [
       "Index(['./data_cut/T009/T009_017/T009_017_IC01_cut88.wav',\n",
       "       './data_cut/T009/T009_017/T009_017_IC01_cut89.wav',\n",
       "       './data_cut/T009/T009_017/T009_017_IC01_cut9.wav',\n",
       "       './data_cut/T009/T009_017/T009_017_IC01_cut90.wav',\n",
       "       './data_cut/T009/T009_017/T009_017_IC01_cut91.wav',\n",
       "       './data_cut/T009/T009_017/T009_017_IC01_cut92.wav',\n",
       "       './data_cut/T009/T009_017/T009_017_IC01_cut93.wav',\n",
       "       './data_cut/T009/T009_017/T009_017_IC01_cut94.wav',\n",
       "       './data_cut/T009/T009_017/T009_017_IC01_cut95.wav',\n",
       "       './data_cut/T009/T009_017/T009_017_IC01_cut96.wav',\n",
       "       ...\n",
       "       './data_cut/T009/T009_022/T009_022_IC01_cut79.wav',\n",
       "       './data_cut/T009/T009_022/T009_022_IC01_cut8.wav',\n",
       "       './data_cut/T009/T009_022/T009_022_IC01_cut80.wav',\n",
       "       './data_cut/T009/T009_022/T009_022_IC01_cut81.wav',\n",
       "       './data_cut/T009/T009_022/T009_022_IC01_cut82.wav',\n",
       "       './data_cut/T009/T009_022/T009_022_IC01_cut83.wav',\n",
       "       './data_cut/T009/T009_022/T009_022_IC01_cut84.wav',\n",
       "       './data_cut/T009/T009_022/T009_022_IC01_cut85.wav',\n",
       "       './data_cut/T009/T009_022/T009_022_IC01_cut86.wav',\n",
       "       './data_cut/T009/T009_022/T009_022_IC01_cut87.wav'],\n",
       "      dtype='object', name='file', length=200)"
      ]
     },
     "execution_count": 61,
     "metadata": {},
     "output_type": "execute_result"
    }
   ],
   "source": [
    "wav.index[2000:2200]"
   ]
  },
  {
   "cell_type": "code",
   "execution_count": 29,
   "metadata": {},
   "outputs": [
    {
     "data": {
      "text/plain": [
       "2213"
      ]
     },
     "execution_count": 29,
     "metadata": {},
     "output_type": "execute_result"
    }
   ],
   "source": [
    "len(wav.index)"
   ]
  },
  {
   "cell_type": "code",
   "execution_count": 28,
   "metadata": {},
   "outputs": [
    {
     "data": {
      "text/plain": [
       "'K001'"
      ]
     },
     "execution_count": 28,
     "metadata": {},
     "output_type": "execute_result"
    }
   ],
   "source": [
    "wav.index[2][16:20]"
   ]
  },
  {
   "cell_type": "code",
   "execution_count": 27,
   "metadata": {},
   "outputs": [
    {
     "data": {
      "text/plain": [
       "'K001_004'"
      ]
     },
     "execution_count": 27,
     "metadata": {},
     "output_type": "execute_result"
    }
   ],
   "source": [
    "wav.index[2][16:24]"
   ]
  },
  {
   "cell_type": "code",
   "execution_count": 32,
   "metadata": {},
   "outputs": [
    {
     "data": {
      "text/html": [
       "<div>\n",
       "<style scoped>\n",
       "    .dataframe tbody tr th:only-of-type {\n",
       "        vertical-align: middle;\n",
       "    }\n",
       "\n",
       "    .dataframe tbody tr th {\n",
       "        vertical-align: top;\n",
       "    }\n",
       "\n",
       "    .dataframe thead th {\n",
       "        text-align: right;\n",
       "    }\n",
       "</style>\n",
       "<table border=\"1\" class=\"dataframe\">\n",
       "  <thead>\n",
       "    <tr style=\"text-align: right;\">\n",
       "      <th></th>\n",
       "      <th>F0semitoneFrom27.5Hz_sma3nz_stddevNorm</th>\n",
       "      <th>F0semitoneFrom27.5Hz_sma3nz_percentile20.0</th>\n",
       "      <th>F0semitoneFrom27.5Hz_sma3nz_percentile50.0</th>\n",
       "      <th>F0semitoneFrom27.5Hz_sma3nz_percentile80.0</th>\n",
       "      <th>F0semitoneFrom27.5Hz_sma3nz_pctlrange0-2</th>\n",
       "      <th>F0semitoneFrom27.5Hz_sma3nz_meanRisingSlope</th>\n",
       "      <th>F0semitoneFrom27.5Hz_sma3nz_stddevRisingSlope</th>\n",
       "      <th>F0semitoneFrom27.5Hz_sma3nz_meanFallingSlope</th>\n",
       "      <th>F0semitoneFrom27.5Hz_sma3nz_stddevFallingSlope</th>\n",
       "      <th>loudness_sma3_amean</th>\n",
       "      <th>...</th>\n",
       "      <th>slopeUV0-500_sma3nz_amean</th>\n",
       "      <th>slopeUV500-1500_sma3nz_amean</th>\n",
       "      <th>spectralFluxUV_sma3nz_amean</th>\n",
       "      <th>loudnessPeaksPerSec</th>\n",
       "      <th>VoicedSegmentsPerSec</th>\n",
       "      <th>MeanVoicedSegmentLengthSec</th>\n",
       "      <th>StddevVoicedSegmentLengthSec</th>\n",
       "      <th>MeanUnvoicedSegmentLength</th>\n",
       "      <th>StddevUnvoicedSegmentLength</th>\n",
       "      <th>equivalentSoundLevel_dBp</th>\n",
       "    </tr>\n",
       "    <tr>\n",
       "      <th>file</th>\n",
       "      <th></th>\n",
       "      <th></th>\n",
       "      <th></th>\n",
       "      <th></th>\n",
       "      <th></th>\n",
       "      <th></th>\n",
       "      <th></th>\n",
       "      <th></th>\n",
       "      <th></th>\n",
       "      <th></th>\n",
       "      <th></th>\n",
       "      <th></th>\n",
       "      <th></th>\n",
       "      <th></th>\n",
       "      <th></th>\n",
       "      <th></th>\n",
       "      <th></th>\n",
       "      <th></th>\n",
       "      <th></th>\n",
       "      <th></th>\n",
       "      <th></th>\n",
       "    </tr>\n",
       "  </thead>\n",
       "  <tbody>\n",
       "    <tr>\n",
       "      <th>./data_cut/C001/C001_001/C001_001_IC01_cut.wav</th>\n",
       "      <td>0.107488</td>\n",
       "      <td>37.144077</td>\n",
       "      <td>41.282871</td>\n",
       "      <td>44.776287</td>\n",
       "      <td>7.632210</td>\n",
       "      <td>296.168365</td>\n",
       "      <td>349.367065</td>\n",
       "      <td>89.844749</td>\n",
       "      <td>72.328224</td>\n",
       "      <td>0.555769</td>\n",
       "      <td>...</td>\n",
       "      <td>0.051796</td>\n",
       "      <td>-0.001671</td>\n",
       "      <td>0.120259</td>\n",
       "      <td>2.502502</td>\n",
       "      <td>3.423968</td>\n",
       "      <td>0.162941</td>\n",
       "      <td>0.136630</td>\n",
       "      <td>0.119032</td>\n",
       "      <td>0.188600</td>\n",
       "      <td>-27.258381</td>\n",
       "    </tr>\n",
       "    <tr>\n",
       "      <th>./data_cut/K001/K001_004/K001_004_IC01_cut1.wav</th>\n",
       "      <td>0.058419</td>\n",
       "      <td>36.195175</td>\n",
       "      <td>37.410366</td>\n",
       "      <td>39.310257</td>\n",
       "      <td>3.115082</td>\n",
       "      <td>29.209740</td>\n",
       "      <td>18.652132</td>\n",
       "      <td>161.897842</td>\n",
       "      <td>191.516006</td>\n",
       "      <td>0.793240</td>\n",
       "      <td>...</td>\n",
       "      <td>0.057345</td>\n",
       "      <td>-0.004871</td>\n",
       "      <td>0.120335</td>\n",
       "      <td>4.040404</td>\n",
       "      <td>3.191489</td>\n",
       "      <td>0.246667</td>\n",
       "      <td>0.070396</td>\n",
       "      <td>0.070000</td>\n",
       "      <td>0.000000</td>\n",
       "      <td>-22.554623</td>\n",
       "    </tr>\n",
       "    <tr>\n",
       "      <th>./data_cut/K001/K001_004/K001_004_IC01_cut10.wav</th>\n",
       "      <td>0.158587</td>\n",
       "      <td>31.704268</td>\n",
       "      <td>36.914242</td>\n",
       "      <td>44.738331</td>\n",
       "      <td>13.034063</td>\n",
       "      <td>-152.834778</td>\n",
       "      <td>234.459183</td>\n",
       "      <td>40.406158</td>\n",
       "      <td>7.258461</td>\n",
       "      <td>0.412087</td>\n",
       "      <td>...</td>\n",
       "      <td>0.045273</td>\n",
       "      <td>-0.005746</td>\n",
       "      <td>0.122724</td>\n",
       "      <td>6.470589</td>\n",
       "      <td>4.848485</td>\n",
       "      <td>0.102500</td>\n",
       "      <td>0.089128</td>\n",
       "      <td>0.072222</td>\n",
       "      <td>0.045161</td>\n",
       "      <td>-30.254122</td>\n",
       "    </tr>\n",
       "  </tbody>\n",
       "</table>\n",
       "<p>3 rows × 87 columns</p>\n",
       "</div>"
      ],
      "text/plain": [
       "                                                  F0semitoneFrom27.5Hz_sma3nz_stddevNorm  \\\n",
       "file                                                                                       \n",
       "./data_cut/C001/C001_001/C001_001_IC01_cut.wav                                  0.107488   \n",
       "./data_cut/K001/K001_004/K001_004_IC01_cut1.wav                                 0.058419   \n",
       "./data_cut/K001/K001_004/K001_004_IC01_cut10.wav                                0.158587   \n",
       "\n",
       "                                                  F0semitoneFrom27.5Hz_sma3nz_percentile20.0  \\\n",
       "file                                                                                           \n",
       "./data_cut/C001/C001_001/C001_001_IC01_cut.wav                                     37.144077   \n",
       "./data_cut/K001/K001_004/K001_004_IC01_cut1.wav                                    36.195175   \n",
       "./data_cut/K001/K001_004/K001_004_IC01_cut10.wav                                   31.704268   \n",
       "\n",
       "                                                  F0semitoneFrom27.5Hz_sma3nz_percentile50.0  \\\n",
       "file                                                                                           \n",
       "./data_cut/C001/C001_001/C001_001_IC01_cut.wav                                     41.282871   \n",
       "./data_cut/K001/K001_004/K001_004_IC01_cut1.wav                                    37.410366   \n",
       "./data_cut/K001/K001_004/K001_004_IC01_cut10.wav                                   36.914242   \n",
       "\n",
       "                                                  F0semitoneFrom27.5Hz_sma3nz_percentile80.0  \\\n",
       "file                                                                                           \n",
       "./data_cut/C001/C001_001/C001_001_IC01_cut.wav                                     44.776287   \n",
       "./data_cut/K001/K001_004/K001_004_IC01_cut1.wav                                    39.310257   \n",
       "./data_cut/K001/K001_004/K001_004_IC01_cut10.wav                                   44.738331   \n",
       "\n",
       "                                                  F0semitoneFrom27.5Hz_sma3nz_pctlrange0-2  \\\n",
       "file                                                                                         \n",
       "./data_cut/C001/C001_001/C001_001_IC01_cut.wav                                    7.632210   \n",
       "./data_cut/K001/K001_004/K001_004_IC01_cut1.wav                                   3.115082   \n",
       "./data_cut/K001/K001_004/K001_004_IC01_cut10.wav                                 13.034063   \n",
       "\n",
       "                                                  F0semitoneFrom27.5Hz_sma3nz_meanRisingSlope  \\\n",
       "file                                                                                            \n",
       "./data_cut/C001/C001_001/C001_001_IC01_cut.wav                                     296.168365   \n",
       "./data_cut/K001/K001_004/K001_004_IC01_cut1.wav                                     29.209740   \n",
       "./data_cut/K001/K001_004/K001_004_IC01_cut10.wav                                  -152.834778   \n",
       "\n",
       "                                                  F0semitoneFrom27.5Hz_sma3nz_stddevRisingSlope  \\\n",
       "file                                                                                              \n",
       "./data_cut/C001/C001_001/C001_001_IC01_cut.wav                                       349.367065   \n",
       "./data_cut/K001/K001_004/K001_004_IC01_cut1.wav                                       18.652132   \n",
       "./data_cut/K001/K001_004/K001_004_IC01_cut10.wav                                     234.459183   \n",
       "\n",
       "                                                  F0semitoneFrom27.5Hz_sma3nz_meanFallingSlope  \\\n",
       "file                                                                                             \n",
       "./data_cut/C001/C001_001/C001_001_IC01_cut.wav                                       89.844749   \n",
       "./data_cut/K001/K001_004/K001_004_IC01_cut1.wav                                     161.897842   \n",
       "./data_cut/K001/K001_004/K001_004_IC01_cut10.wav                                     40.406158   \n",
       "\n",
       "                                                  F0semitoneFrom27.5Hz_sma3nz_stddevFallingSlope  \\\n",
       "file                                                                                               \n",
       "./data_cut/C001/C001_001/C001_001_IC01_cut.wav                                         72.328224   \n",
       "./data_cut/K001/K001_004/K001_004_IC01_cut1.wav                                       191.516006   \n",
       "./data_cut/K001/K001_004/K001_004_IC01_cut10.wav                                        7.258461   \n",
       "\n",
       "                                                  loudness_sma3_amean  ...  \\\n",
       "file                                                                   ...   \n",
       "./data_cut/C001/C001_001/C001_001_IC01_cut.wav               0.555769  ...   \n",
       "./data_cut/K001/K001_004/K001_004_IC01_cut1.wav              0.793240  ...   \n",
       "./data_cut/K001/K001_004/K001_004_IC01_cut10.wav             0.412087  ...   \n",
       "\n",
       "                                                  slopeUV0-500_sma3nz_amean  \\\n",
       "file                                                                          \n",
       "./data_cut/C001/C001_001/C001_001_IC01_cut.wav                     0.051796   \n",
       "./data_cut/K001/K001_004/K001_004_IC01_cut1.wav                    0.057345   \n",
       "./data_cut/K001/K001_004/K001_004_IC01_cut10.wav                   0.045273   \n",
       "\n",
       "                                                  slopeUV500-1500_sma3nz_amean  \\\n",
       "file                                                                             \n",
       "./data_cut/C001/C001_001/C001_001_IC01_cut.wav                       -0.001671   \n",
       "./data_cut/K001/K001_004/K001_004_IC01_cut1.wav                      -0.004871   \n",
       "./data_cut/K001/K001_004/K001_004_IC01_cut10.wav                     -0.005746   \n",
       "\n",
       "                                                  spectralFluxUV_sma3nz_amean  \\\n",
       "file                                                                            \n",
       "./data_cut/C001/C001_001/C001_001_IC01_cut.wav                       0.120259   \n",
       "./data_cut/K001/K001_004/K001_004_IC01_cut1.wav                      0.120335   \n",
       "./data_cut/K001/K001_004/K001_004_IC01_cut10.wav                     0.122724   \n",
       "\n",
       "                                                  loudnessPeaksPerSec  \\\n",
       "file                                                                    \n",
       "./data_cut/C001/C001_001/C001_001_IC01_cut.wav               2.502502   \n",
       "./data_cut/K001/K001_004/K001_004_IC01_cut1.wav              4.040404   \n",
       "./data_cut/K001/K001_004/K001_004_IC01_cut10.wav             6.470589   \n",
       "\n",
       "                                                  VoicedSegmentsPerSec  \\\n",
       "file                                                                     \n",
       "./data_cut/C001/C001_001/C001_001_IC01_cut.wav                3.423968   \n",
       "./data_cut/K001/K001_004/K001_004_IC01_cut1.wav               3.191489   \n",
       "./data_cut/K001/K001_004/K001_004_IC01_cut10.wav              4.848485   \n",
       "\n",
       "                                                  MeanVoicedSegmentLengthSec  \\\n",
       "file                                                                           \n",
       "./data_cut/C001/C001_001/C001_001_IC01_cut.wav                      0.162941   \n",
       "./data_cut/K001/K001_004/K001_004_IC01_cut1.wav                     0.246667   \n",
       "./data_cut/K001/K001_004/K001_004_IC01_cut10.wav                    0.102500   \n",
       "\n",
       "                                                  StddevVoicedSegmentLengthSec  \\\n",
       "file                                                                             \n",
       "./data_cut/C001/C001_001/C001_001_IC01_cut.wav                        0.136630   \n",
       "./data_cut/K001/K001_004/K001_004_IC01_cut1.wav                       0.070396   \n",
       "./data_cut/K001/K001_004/K001_004_IC01_cut10.wav                      0.089128   \n",
       "\n",
       "                                                  MeanUnvoicedSegmentLength  \\\n",
       "file                                                                          \n",
       "./data_cut/C001/C001_001/C001_001_IC01_cut.wav                     0.119032   \n",
       "./data_cut/K001/K001_004/K001_004_IC01_cut1.wav                    0.070000   \n",
       "./data_cut/K001/K001_004/K001_004_IC01_cut10.wav                   0.072222   \n",
       "\n",
       "                                                  StddevUnvoicedSegmentLength  \\\n",
       "file                                                                            \n",
       "./data_cut/C001/C001_001/C001_001_IC01_cut.wav                       0.188600   \n",
       "./data_cut/K001/K001_004/K001_004_IC01_cut1.wav                      0.000000   \n",
       "./data_cut/K001/K001_004/K001_004_IC01_cut10.wav                     0.045161   \n",
       "\n",
       "                                                  equivalentSoundLevel_dBp  \n",
       "file                                                                        \n",
       "./data_cut/C001/C001_001/C001_001_IC01_cut.wav                  -27.258381  \n",
       "./data_cut/K001/K001_004/K001_004_IC01_cut1.wav                 -22.554623  \n",
       "./data_cut/K001/K001_004/K001_004_IC01_cut10.wav                -30.254122  \n",
       "\n",
       "[3 rows x 87 columns]"
      ]
     },
     "execution_count": 32,
     "metadata": {},
     "output_type": "execute_result"
    }
   ],
   "source": [
    "wav.loc[wav.index[0:3]]"
   ]
  },
  {
   "cell_type": "code",
   "execution_count": 59,
   "metadata": {},
   "outputs": [],
   "source": [
    "K001 = DataFrame()\n",
    "T008 = DataFrame()\n",
    "T009 = DataFrame()\n",
    "\n",
    "for i in range(len(wav.index)):\n",
    "    if wav.index[i][16:20]==\"K001\":\n",
    "        K001 = K001.append(wav.loc[wav.index[i]])\n",
    "    elif wav.index[i][16:20]==\"T008\":\n",
    "        T008 = T008.append(wav.loc[wav.index[i]])\n",
    "    elif wav.index[i][16:20]==\"T009\":\n",
    "        T009 = T009.append(wav.loc[wav.index[i]])"
   ]
  },
  {
   "cell_type": "code",
   "execution_count": 54,
   "metadata": {},
   "outputs": [
    {
     "data": {
      "text/plain": [
       "883"
      ]
     },
     "execution_count": 54,
     "metadata": {},
     "output_type": "execute_result"
    }
   ],
   "source": [
    "len(K001)"
   ]
  },
  {
   "cell_type": "code",
   "execution_count": 57,
   "metadata": {},
   "outputs": [
    {
     "data": {
      "text/plain": [
       "642"
      ]
     },
     "execution_count": 57,
     "metadata": {},
     "output_type": "execute_result"
    }
   ],
   "source": [
    "len(T008)"
   ]
  },
  {
   "cell_type": "code",
   "execution_count": 60,
   "metadata": {},
   "outputs": [
    {
     "data": {
      "text/plain": [
       "687"
      ]
     },
     "execution_count": 60,
     "metadata": {},
     "output_type": "execute_result"
    }
   ],
   "source": [
    "len(T009)"
   ]
  },
  {
   "cell_type": "code",
   "execution_count": 110,
   "metadata": {},
   "outputs": [],
   "source": [
    "K001_004 = DataFrame()\n",
    "K001_009 = DataFrame()\n",
    "K001_010 = DataFrame()\n",
    "K001_011 = DataFrame()\n",
    "K001_014 = DataFrame()\n",
    "K001_017 = DataFrame()\n",
    "\n",
    "\n",
    "for i in range(len(K001.index)):\n",
    "    if K001.index[i][16:24]==\"K001_004\":\n",
    "        K001_004 = K001_004.append(K001.loc[K001.index[i]])\n",
    "    elif K001.index[i][16:24]==\"K001_009\":\n",
    "        K001_009 = K001_009.append(K001.loc[K001.index[i]])\n",
    "    elif K001.index[i][16:24]==\"K001_010\":\n",
    "        K001_010 = K001_010.append(K001.loc[K001.index[i]])\n",
    "    elif K001.index[i][16:24]==\"K001_011\":\n",
    "        K001_011 = K001_011.append(K001.loc[K001.index[i]])\n",
    "    elif K001.index[i][16:24]==\"K001_014\":\n",
    "        K001_014 = K001_014.append(K001.loc[K001.index[i]])\n",
    "    elif K001.index[i][16:24]==\"K001_017\":\n",
    "        K001_017 = K001_017.append(K001.loc[K001.index[i]])\n"
   ]
  },
  {
   "cell_type": "code",
   "execution_count": 111,
   "metadata": {},
   "outputs": [
    {
     "data": {
      "text/plain": [
       "150"
      ]
     },
     "execution_count": 111,
     "metadata": {},
     "output_type": "execute_result"
    }
   ],
   "source": [
    "len(K001_004)"
   ]
  },
  {
   "cell_type": "code",
   "execution_count": 112,
   "metadata": {},
   "outputs": [
    {
     "data": {
      "text/plain": [
       "76"
      ]
     },
     "execution_count": 112,
     "metadata": {},
     "output_type": "execute_result"
    }
   ],
   "source": [
    "len(K001_009)"
   ]
  },
  {
   "cell_type": "code",
   "execution_count": 113,
   "metadata": {},
   "outputs": [
    {
     "data": {
      "text/plain": [
       "129"
      ]
     },
     "execution_count": 113,
     "metadata": {},
     "output_type": "execute_result"
    }
   ],
   "source": [
    "len(K001_010)"
   ]
  },
  {
   "cell_type": "code",
   "execution_count": 114,
   "metadata": {},
   "outputs": [
    {
     "data": {
      "text/plain": [
       "138"
      ]
     },
     "execution_count": 114,
     "metadata": {},
     "output_type": "execute_result"
    }
   ],
   "source": [
    "len(K001_011)"
   ]
  },
  {
   "cell_type": "code",
   "execution_count": 115,
   "metadata": {},
   "outputs": [
    {
     "data": {
      "text/plain": [
       "165"
      ]
     },
     "execution_count": 115,
     "metadata": {},
     "output_type": "execute_result"
    }
   ],
   "source": [
    "len(K001_014)"
   ]
  },
  {
   "cell_type": "code",
   "execution_count": 116,
   "metadata": {},
   "outputs": [
    {
     "data": {
      "text/plain": [
       "225"
      ]
     },
     "execution_count": 116,
     "metadata": {},
     "output_type": "execute_result"
    }
   ],
   "source": [
    "len(K001_017)"
   ]
  },
  {
   "cell_type": "code",
   "execution_count": 155,
   "metadata": {},
   "outputs": [],
   "source": [
    "T008_003 = DataFrame()\n",
    "T008_004 = DataFrame()\n",
    "T008_005 = DataFrame()\n",
    "T008_008 = DataFrame()\n",
    "T008_009 = DataFrame()\n",
    "T008_010 = DataFrame()\n",
    "T008_011 = DataFrame()\n",
    "T008_013 = DataFrame()\n",
    "\n",
    "for i in range(len(T008.index)):\n",
    "    if T008.index[i][16:24]==\"T008_003\":\n",
    "        T008_003 = T008_003.append(T008.loc[T008.index[i]])\n",
    "    elif T008.index[i][16:24]==\"T008_004\":\n",
    "        T008_004 = T008_004.append(T008.loc[T008.index[i]])\n",
    "    elif T008.index[i][16:24]==\"T008_005\":\n",
    "        T008_005 = T008_005.append(T008.loc[T008.index[i]])\n",
    "    elif T008.index[i][16:24]==\"T008_008\":\n",
    "        T008_008 = T008_008.append(T008.loc[T008.index[i]])\n",
    "    elif T008.index[i][16:24]==\"T008_009\":\n",
    "        T008_009 = T008_009.append(T008.loc[T008.index[i]])\n",
    "    elif T008.index[i][16:24]==\"T008_010\":\n",
    "        T008_010 = T008_010.append(T008.loc[T008.index[i]])\n",
    "    elif T008.index[i][16:24]==\"T008_011\":\n",
    "        T008_011 = T008_011.append(T008.loc[T008.index[i]])\n",
    "    elif T008.index[i][16:24]==\"T008_013\":\n",
    "        T008_013 = T008_013.append(T008.loc[T008.index[i]])\n",
    "    else :\n",
    "        test = test.append(T008.loc[T008.index[i]])"
   ]
  },
  {
   "cell_type": "code",
   "execution_count": 156,
   "metadata": {},
   "outputs": [
    {
     "data": {
      "text/plain": [
       "73"
      ]
     },
     "execution_count": 156,
     "metadata": {},
     "output_type": "execute_result"
    }
   ],
   "source": [
    "len(T008_003)"
   ]
  },
  {
   "cell_type": "code",
   "execution_count": 157,
   "metadata": {},
   "outputs": [
    {
     "data": {
      "text/plain": [
       "77"
      ]
     },
     "execution_count": 157,
     "metadata": {},
     "output_type": "execute_result"
    }
   ],
   "source": [
    "len(T008_004)"
   ]
  },
  {
   "cell_type": "code",
   "execution_count": 158,
   "metadata": {},
   "outputs": [
    {
     "data": {
      "text/plain": [
       "46"
      ]
     },
     "execution_count": 158,
     "metadata": {},
     "output_type": "execute_result"
    }
   ],
   "source": [
    "len(T008_005)"
   ]
  },
  {
   "cell_type": "code",
   "execution_count": 159,
   "metadata": {},
   "outputs": [
    {
     "data": {
      "text/plain": [
       "74"
      ]
     },
     "execution_count": 159,
     "metadata": {},
     "output_type": "execute_result"
    }
   ],
   "source": [
    "len(T008_008)"
   ]
  },
  {
   "cell_type": "code",
   "execution_count": 160,
   "metadata": {},
   "outputs": [
    {
     "data": {
      "text/plain": [
       "95"
      ]
     },
     "execution_count": 160,
     "metadata": {},
     "output_type": "execute_result"
    }
   ],
   "source": [
    "len(T008_009)"
   ]
  },
  {
   "cell_type": "code",
   "execution_count": 161,
   "metadata": {},
   "outputs": [
    {
     "data": {
      "text/plain": [
       "124"
      ]
     },
     "execution_count": 161,
     "metadata": {},
     "output_type": "execute_result"
    }
   ],
   "source": [
    "len(T008_010)"
   ]
  },
  {
   "cell_type": "code",
   "execution_count": 162,
   "metadata": {},
   "outputs": [
    {
     "data": {
      "text/plain": [
       "39"
      ]
     },
     "execution_count": 162,
     "metadata": {},
     "output_type": "execute_result"
    }
   ],
   "source": [
    "len(T008_011)"
   ]
  },
  {
   "cell_type": "code",
   "execution_count": 163,
   "metadata": {},
   "outputs": [
    {
     "data": {
      "text/plain": [
       "114"
      ]
     },
     "execution_count": 163,
     "metadata": {},
     "output_type": "execute_result"
    }
   ],
   "source": [
    "len(T008_013)"
   ]
  },
  {
   "cell_type": "code",
   "execution_count": 174,
   "metadata": {},
   "outputs": [],
   "source": [
    "T009_001 = DataFrame()\n",
    "T009_002 = DataFrame()\n",
    "T009_003 = DataFrame()\n",
    "T009_005 = DataFrame()\n",
    "T009_015 = DataFrame()\n",
    "T009_017 = DataFrame()\n",
    "T009_021 = DataFrame()\n",
    "T009_022 = DataFrame()\n",
    "\n",
    "#残りの確認用\n",
    "test = DataFrame()\n",
    "\n",
    "for i in range(len(T009.index)):\n",
    "    if T009.index[i][16:24]==\"T009_001\":\n",
    "        T009_001 = T009_001.append(T009.loc[T009.index[i]])\n",
    "    elif T009.index[i][16:24]==\"T009_002\":\n",
    "        T009_002 = T009_002.append(T009.loc[T009.index[i]])\n",
    "    elif T009.index[i][16:24]==\"T009_003\":\n",
    "        T009_003 = T009_003.append(T009.loc[T009.index[i]])\n",
    "    elif T009.index[i][16:24]==\"T009_005\":\n",
    "        T009_005 = T009_005.append(T009.loc[T009.index[i]])\n",
    "    elif T009.index[i][16:24]==\"T009_015\":\n",
    "        T009_015 = T009_015.append(T009.loc[T009.index[i]]) \n",
    "    elif T009.index[i][16:24]==\"T009_017\":\n",
    "        T009_017 = T009_017.append(T009.loc[T009.index[i]])\n",
    "    elif T009.index[i][16:24]==\"T009_021\":\n",
    "        T009_021 = T009_021.append(T009.loc[T009.index[i]])\n",
    "    elif T009.index[i][16:24]==\"T009_022\":\n",
    "        T009_022 = T009_022.append(T009.loc[T009.index[i]])\n",
    "    else:#残りの確認用\n",
    "        test = test.append(T009.loc[T009.index[i]])"
   ]
  },
  {
   "cell_type": "code",
   "execution_count": 176,
   "metadata": {},
   "outputs": [
    {
     "data": {
      "text/plain": [
       "98"
      ]
     },
     "execution_count": 176,
     "metadata": {},
     "output_type": "execute_result"
    }
   ],
   "source": [
    "len(T009_001)"
   ]
  },
  {
   "cell_type": "code",
   "execution_count": 177,
   "metadata": {},
   "outputs": [
    {
     "data": {
      "text/plain": [
       "34"
      ]
     },
     "execution_count": 177,
     "metadata": {},
     "output_type": "execute_result"
    }
   ],
   "source": [
    "len(T009_002)"
   ]
  },
  {
   "cell_type": "code",
   "execution_count": 178,
   "metadata": {},
   "outputs": [
    {
     "data": {
      "text/plain": [
       "112"
      ]
     },
     "execution_count": 178,
     "metadata": {},
     "output_type": "execute_result"
    }
   ],
   "source": [
    "len(T009_003)"
   ]
  },
  {
   "cell_type": "code",
   "execution_count": 179,
   "metadata": {},
   "outputs": [
    {
     "data": {
      "text/plain": [
       "29"
      ]
     },
     "execution_count": 179,
     "metadata": {},
     "output_type": "execute_result"
    }
   ],
   "source": [
    "len(T009_005)"
   ]
  },
  {
   "cell_type": "code",
   "execution_count": 180,
   "metadata": {},
   "outputs": [
    {
     "data": {
      "text/plain": [
       "88"
      ]
     },
     "execution_count": 180,
     "metadata": {},
     "output_type": "execute_result"
    }
   ],
   "source": [
    "len(T009_015)"
   ]
  },
  {
   "cell_type": "code",
   "execution_count": 181,
   "metadata": {},
   "outputs": [
    {
     "data": {
      "text/plain": [
       "126"
      ]
     },
     "execution_count": 181,
     "metadata": {},
     "output_type": "execute_result"
    }
   ],
   "source": [
    "len(T009_017)"
   ]
  },
  {
   "cell_type": "code",
   "execution_count": 182,
   "metadata": {},
   "outputs": [
    {
     "data": {
      "text/plain": [
       "95"
      ]
     },
     "execution_count": 182,
     "metadata": {},
     "output_type": "execute_result"
    }
   ],
   "source": [
    "len(T009_021)"
   ]
  },
  {
   "cell_type": "code",
   "execution_count": 183,
   "metadata": {},
   "outputs": [
    {
     "data": {
      "text/plain": [
       "105"
      ]
     },
     "execution_count": 183,
     "metadata": {},
     "output_type": "execute_result"
    }
   ],
   "source": [
    "len(T009_022)"
   ]
  },
  {
   "cell_type": "code",
   "execution_count": 190,
   "metadata": {},
   "outputs": [],
   "source": [
    "def IFC(feature):\n",
    "\n",
    "    styleI = []\n",
    "    ataiI = 0\n",
    "\n",
    "    for k in range(len(feature.iloc[:, 0])):  # 特徴量の列数\n",
    "        for j in range(len(feature.iloc[0, :])):  # 特徴量の行数(88個)\n",
    "            for i in range(len(meiryousa.iloc[:, 0])):  # 偏回帰係数の列数\n",
    "                if meiryousa.iloc[:, 0][i] == feature.columns[j]:\n",
    "                    ataiI += float(feature.iloc[k, j]) * float(meiryousa.iloc[:, 1][i])\n",
    "        styleI.append(ataiI)\n",
    "        ataiI = 0\n",
    "# 明瞭さのspeaking styleの値を求める\n",
    "    styleF = []\n",
    "    ataiF = 0\n",
    "\n",
    "    for k in range(len(feature.iloc[:, 0])):  # 特徴量の列数\n",
    "        for j in range(len(feature.iloc[0, :])):  # 特徴量の行数(88個)\n",
    "            for i in range(len(syakaikaisou.iloc[:, 0])):  # 偏回帰係数の列数\n",
    "                if syakaikaisou.iloc[:, 0][i] == feature.columns[j]:\n",
    "                    ataiF += float(feature.iloc[k, j]) * \\\n",
    "                        float(syakaikaisou.iloc[:, 1][i])\n",
    "        styleF.append(ataiF)\n",
    "        ataiF = 0\n",
    "# 明瞭さのspeaking styleの値を求める\n",
    "    styleC = []\n",
    "    ataiC = 0\n",
    "\n",
    "    for k in range(len(feature.iloc[:, 0])):  # 特徴量の列数\n",
    "        for j in range(len(feature.iloc[0, :])):  # 特徴量の行数(88個)\n",
    "            for i in range(len(shitashisa.iloc[:, 0])):  # 偏回帰係数の列数\n",
    "                if shitashisa.iloc[:, 0][i] == feature.columns[j]:\n",
    "                    ataiC += float(feature.iloc[k, j]) * \\\n",
    "                        float(shitashisa.iloc[:, 1][i])\n",
    "        styleC.append(ataiC)\n",
    "        ataiC = 0\n",
    "\n",
    "    df = DataFrame([styleI, styleF,styleC], columns=feature.index)\n",
    "    df =df.T\n",
    "    return df"
   ]
  },
  {
   "cell_type": "code",
   "execution_count": 195,
   "metadata": {},
   "outputs": [],
   "source": [
    "K001df = IFC(K001)"
   ]
  },
  {
   "cell_type": "code",
   "execution_count": 197,
   "metadata": {},
   "outputs": [],
   "source": [
    "K001_004df = IFC(K001_004)\n",
    "K001_009df = IFC(K001_009)\n",
    "K001_010df = IFC(K001_010)\n",
    "K001_011df = IFC(K001_011)\n",
    "K001_014df = IFC(K001_014)\n",
    "K001_017df = IFC(K001_017)"
   ]
  },
  {
   "cell_type": "code",
   "execution_count": 201,
   "metadata": {},
   "outputs": [],
   "source": [
    "K001df.to_csv(\"./csv/IFC/K001.csv\")\n",
    "K001_004df.to_csv(\"./csv/IFC/K001_004.csv\")\n",
    "K001_009df.to_csv(\"./csv/IFC/K001_009.csv\")\n",
    "K001_010df.to_csv(\"./csv/IFC/K001_010.csv\")\n",
    "K001_011df.to_csv(\"./csv/IFC/K001_011.csv\")\n",
    "K001_014df.to_csv(\"./csv/IFC/K001_014.csv\")\n",
    "K001_017df.to_csv(\"./csv/IFC/K001_017.csv\")"
   ]
  },
  {
   "cell_type": "code",
   "execution_count": 196,
   "metadata": {},
   "outputs": [],
   "source": [
    "T008df = IFC(T008)"
   ]
  },
  {
   "cell_type": "code",
   "execution_count": 200,
   "metadata": {},
   "outputs": [],
   "source": [
    "T008_003df = IFC(T008_003)\n",
    "T008_004df = IFC(T008_004)\n",
    "T008_005df = IFC(T008_005)\n",
    "T008_008df = IFC(T008_008)\n",
    "T008_009df = IFC(T008_009)\n",
    "T008_010df = IFC(T008_010)\n",
    "T008_011df = IFC(T008_011)\n",
    "T008_013df = IFC(T008_013)"
   ]
  },
  {
   "cell_type": "code",
   "execution_count": 202,
   "metadata": {},
   "outputs": [],
   "source": [
    "T008df.to_csv(\"./csv/IFC/T008.csv\")\n",
    "T008_003df.to_csv(\"./csv/IFC/T008_003.csv\")\n",
    "T008_004df.to_csv(\"./csv/IFC/T008_004.csv\")\n",
    "T008_005df.to_csv(\"./csv/IFC/T008_005.csv\")\n",
    "T008_008df.to_csv(\"./csv/IFC/T008_008.csv\")\n",
    "T008_009df.to_csv(\"./csv/IFC/T008_009.csv\")\n",
    "T008_010df.to_csv(\"./csv/IFC/T008_010.csv\")\n",
    "T008_011df.to_csv(\"./csv/IFC/T008_011.csv\")\n",
    "T008_013df.to_csv(\"./csv/IFC/T008_013.csv\")"
   ]
  },
  {
   "cell_type": "code",
   "execution_count": 203,
   "metadata": {},
   "outputs": [],
   "source": [
    "T009df =IFC(T009)"
   ]
  },
  {
   "cell_type": "code",
   "execution_count": 204,
   "metadata": {},
   "outputs": [],
   "source": [
    "T009_001df = IFC(T009_001)\n",
    "T009_002df = IFC(T009_002)\n",
    "T009_003df = IFC(T009_003)\n",
    "T009_005df = IFC(T009_005)\n",
    "T009_015df = IFC(T009_015)\n",
    "T009_017df = IFC(T009_017)\n",
    "T009_021df = IFC(T009_021)\n",
    "T009_022df = IFC(T009_022)"
   ]
  },
  {
   "cell_type": "code",
   "execution_count": null,
   "metadata": {},
   "outputs": [],
   "source": [
    "T009df.to_csv(\"./csv/IFC/T009.csv\")\n",
    "T009_001df.to_csv(\"./csv/IFC/T009_001.csv\")\n",
    "T009_002df.to_csv(\"./csv/IFC/T009_002.csv\")\n",
    "T009_003df.to_csv(\"./csv/IFC/T009_003.csv\")\n",
    "T009_005df.to_csv(\"./csv/IFC/T009_005.csv\")\n",
    "T009_015df.to_csv(\"./csv/IFC/T009_015.csv\")\n",
    "T009_017df.to_csv(\"./csv/IFC/T009_017.csv\")\n",
    "T009_021df.to_csv(\"./csv/IFC/T009_021.csv\")\n",
    "T009_022df.to_csv(\"./csv/IFC/T009_022.csv\")"
   ]
  },
  {
   "cell_type": "code",
   "execution_count": 194,
   "metadata": {},
   "outputs": [
    {
     "data": {
      "image/png": "[encoded data removed]",
      "text/plain": [
       "<Figure size 432x288 with 1 Axes>"
      ]
     },
     "metadata": {
      "needs_background": "light"
     },
     "output_type": "display_data"
    }
   ],
   "source": [
    "plt.rcParams['font.family'] = \"Hiragino Mincho ProN\"\n",
    "# グラフの装飾\n",
    "\n",
    "plt.rcParams['figure.subplot.bottom'] = 0.15\n",
    "plt.title(\"K001_004\", fontsize=15)  # (3) タイトル\n",
    "plt.xlabel(\"明瞭さ\", fontsize=15)            # (4) x軸ラベル\n",
    "plt.ylabel(\"親しさ\", fontsize=15)      # (5) y軸ラベル\n",
    "plt.grid(True)                            # (6) 目盛線の表示\n",
    "plt.tick_params(labelsize=12)    # (7) 目盛線のラベルサイズ\n",
    "\n",
    "#plt.savefig(\"./img/hikensya4\")\n",
    "\n",
    "plt.scatter(K001_004df[0],K001_004df[1])\n",
    "\n",
    "#plt.savefig(\"./img/SpeakingStyle/K001_004\")\n",
    "plt.show()"
   ]
  },
  {
   "cell_type": "code",
   "execution_count": 90,
   "metadata": {},
   "outputs": [
    {
     "data": {
      "text/html": [
       "<div>\n",
       "<style scoped>\n",
       "    .dataframe tbody tr th:only-of-type {\n",
       "        vertical-align: middle;\n",
       "    }\n",
       "\n",
       "    .dataframe tbody tr th {\n",
       "        vertical-align: top;\n",
       "    }\n",
       "\n",
       "    .dataframe thead th {\n",
       "        text-align: right;\n",
       "    }\n",
       "</style>\n",
       "<table border=\"1\" class=\"dataframe\">\n",
       "  <thead>\n",
       "    <tr style=\"text-align: right;\">\n",
       "      <th></th>\n",
       "      <th>0</th>\n",
       "      <th>1</th>\n",
       "    </tr>\n",
       "    <tr>\n",
       "      <th>file</th>\n",
       "      <th></th>\n",
       "      <th></th>\n",
       "    </tr>\n",
       "  </thead>\n",
       "  <tbody>\n",
       "    <tr>\n",
       "      <th>./data_cut/T008/T008_004/T008_004_IC01_cut62.wav</th>\n",
       "      <td>-4.618311</td>\n",
       "      <td>-0.955200</td>\n",
       "    </tr>\n",
       "    <tr>\n",
       "      <th>./data_cut/T008/T008_009/T008_009_IC01_cut46.wav</th>\n",
       "      <td>-5.693451</td>\n",
       "      <td>-0.589757</td>\n",
       "    </tr>\n",
       "    <tr>\n",
       "      <th>./data_cut/T008/T008_009/T008_009_IC01_cut7.wav</th>\n",
       "      <td>-4.733772</td>\n",
       "      <td>-0.819510</td>\n",
       "    </tr>\n",
       "  </tbody>\n",
       "</table>\n",
       "</div>"
      ],
      "text/plain": [
       "                                                         0         1\n",
       "file                                                                \n",
       "./data_cut/T008/T008_004/T008_004_IC01_cut62.wav -4.618311 -0.955200\n",
       "./data_cut/T008/T008_009/T008_009_IC01_cut46.wav -5.693451 -0.589757\n",
       "./data_cut/T008/T008_009/T008_009_IC01_cut7.wav  -4.733772 -0.819510"
      ]
     },
     "execution_count": 90,
     "metadata": {},
     "output_type": "execute_result"
    }
   ],
   "source": [
    "df[df[0]<-4.5]"
   ]
  }
 ],
 "metadata": {
  "kernelspec": {
   "display_name": "Python 3",
   "language": "python",
   "name": "python3"
  },
  "language_info": {
   "codemirror_mode": {
    "name": "ipython",
    "version": 3
   },
   "file_extension": ".py",
   "mimetype": "text/x-python",
   "name": "python",
   "nbconvert_exporter": "python",
   "pygments_lexer": "ipython3",
   "version": "3.7.10"
  },
  "orig_nbformat": 4,
  "vscode": {
   "interpreter": {
    "hash": "7fb369ebfadc9550c5cbba6274b404a6a0c9c678d2715dad31974a6bdb8cb334"
   }
  }
 },
 "nbformat": 4,
 "nbformat_minor": 2
}
